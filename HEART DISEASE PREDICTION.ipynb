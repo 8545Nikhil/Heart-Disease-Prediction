{
 "cells": [
  {
   "cell_type": "markdown",
   "id": "bc47aa62-0d5d-430d-84ef-50c3a183603e",
   "metadata": {
    "tags": []
   },
   "source": [
    "# Heart Disease Prediction using Machine Learning Approach.\n",
    "\n",
    "### Task -->\n",
    "##### We have performed Supervised Machine Learning using Classification techniques and Exploratory Data Analysis on Heart Disease Prediction dataset.\n",
    "\n",
    "##### The main problems to be solved by this Data Science task have been properly framed, in terms of client's goals, background information and the purpose of task. This ensures that the task is understood and explored to better inform the decision-making process on the possible range of approaches and solutions to the problems.\n",
    "\n",
    "##### Here we will extract relevant, representative, and sufficient case study data from a reputable and reliable online source. We are gonna perform appropriate preprocessing adjustments and data exploration on the data to ensure reliable and reasonable outcomes and outputs.\n",
    "\n",
    "##### For the data mining and modelling process, the popular classifier models of Decision Tree, K-Nearest Neighbor, Logistic Regression, Random Forest Classifier and Support Vector Classifier are to be fitted, analysed, and evaluated in terms of the performance metrics of accuracy, precision, recall and F1-score in predicting the classifications of heart disease. All significant interpretations and observations will be noted and considered for future improvements.\n",
    "\n",
    "##### The primary focus will be on heart-related factors, which are a range of health measurements including 'CerebralPalsy', 'Cholestrol', 'BloodPressure', 'BloodSugar', 'GeartRate', 'RestingElectrocardiographic', 'ExeInducedAnging', 'No.ofVessels' and 'Age' as predictors. Analysing these will help us to identify concerned areas and assess/predict the heart disease outcome.\n",
    "\n",
    "##### This project is divided into 10 major steps which are as follows:\n",
    "\n",
    "1. Data description\n",
    "2. Importing Libraries & setting up environment\n",
    "3. Loading dataset\n",
    "4. Data Cleaning & Preprocessing\n",
    "5. Exploratory Data Analysis\n",
    "6. OUtlier Detection & Removal\n",
    "7. Training & Test Split\n",
    "8. Model Building\n",
    "9. Model Evaluation and Comaprison\n",
    "10. Conclusion\n",
    "\n",
    "\n",
    "\n",
    "\n",
    "### 1. Dataset description\n",
    "##### This dataset consists of 11 features and a target variable. It has 6 nominal variables and 5 numeric variables. The detailed description of all the features are as follows:\n",
    "\n",
    "1. Age: Patients Age in years (Numeric)\n",
    "2. Sex: Gender of patient (Male - 1, Female - 0) (Nominal)\n",
    "3. Chest Pain Type: Type of chest pain experienced by patient categorized into 0 typical, 1 typical angina, 2 non- anginal pain, 3 asymptomatic (Nominal)\n",
    "4. resting bp s: Level of blood pressure at resting mode in mm/HG (Numerical)\n",
    "5. cholestrol: Serum cholestrol in mg/dl (Numeric)\n",
    "6. fasting blood sugar: Blood sugar levels on fasting > 120 mg/dl represents as 1 in case of true and 0 as false (Nominal)\n",
    "7. resting ecg: Result of electrocardiogram while at rest are represented in 3 distinct values 0 : Normal 1: Abnormality in ST-T wave 2: Left ventricular hypertrophy (Nominal)\n",
    "8. max heart rate: Maximum heart rate achieved (Numeric)\n",
    "9. exercise angina: Angina induced by exercise 0 depicting NO 1 depicting Yes (Nominal)\n",
    "10. oldpeak: Exercise induced ST-depression in comparison with the state of rest (Numeric)\n",
    "11. ST slope: ST segment measured in terms of slope during peak exercise 0: Normal 1: Upsloping 2: Flat 3: Downsloping (Nominal)\n",
    "12. ca: Number of major vessels\n",
    "13. thal:  A blood disorder called thalassemia.\n",
    "\n",
    "Target variable\n",
    "\n",
    "14. target: It is the target variable which we have to predict 1 means patient is suffering from heart risk and 0 means patient is normal.\n",
    "\n",
    "\n",
    "\n",
    "### 2. Importing libraries"
   ]
  },
  {
   "cell_type": "code",
   "execution_count": 135,
   "id": "d5b1aeaf-866a-4287-b2a6-2dfa15c1fa6c",
   "metadata": {},
   "outputs": [],
   "source": [
    "import numpy as np\n",
    "import pandas as pd\n",
    "import matplotlib.pyplot as plt\n",
    "import seaborn as sns\n",
    "from sklearn.model_selection import train_test_split\n",
    "from sklearn.tree import DecisionTreeClassifier\n",
    "from sklearn.neighbors import KNeighborsClassifier\n",
    "from sklearn.linear_model import LogisticRegression\n",
    "from sklearn.ensemble import RandomForestClassifier\n",
    "from sklearn.svm import SVC\n",
    "from sklearn.metrics import accuracy_score"
   ]
  },
  {
   "cell_type": "markdown",
   "id": "8f733575-5a3b-4c58-90a5-6f83579151cc",
   "metadata": {},
   "source": [
    "### 3. Loading Dataset\n",
    "\n",
    "\n",
    "##### The initial step of our Data Science task is to obtain, gather and measure the necessary and targeted data from available internal or external data sources and then compile them into an established system."
   ]
  },
  {
   "cell_type": "code",
   "execution_count": 136,
   "id": "9c9b3933-37ce-450b-a31b-9571ea1b8d86",
   "metadata": {},
   "outputs": [],
   "source": [
    "# loading the csv data to a Pandas DataFrame\n",
    "heart_data = pd.read_csv('Downloads/heart.csv')"
   ]
  },
  {
   "cell_type": "code",
   "execution_count": 137,
   "id": "3dd1fa52-07da-4d1f-a110-0b4776fea1f4",
   "metadata": {},
   "outputs": [
    {
     "data": {
      "text/html": [
       "<div>\n",
       "<style scoped>\n",
       "    .dataframe tbody tr th:only-of-type {\n",
       "        vertical-align: middle;\n",
       "    }\n",
       "\n",
       "    .dataframe tbody tr th {\n",
       "        vertical-align: top;\n",
       "    }\n",
       "\n",
       "    .dataframe thead th {\n",
       "        text-align: right;\n",
       "    }\n",
       "</style>\n",
       "<table border=\"1\" class=\"dataframe\">\n",
       "  <thead>\n",
       "    <tr style=\"text-align: right;\">\n",
       "      <th></th>\n",
       "      <th>age</th>\n",
       "      <th>sex</th>\n",
       "      <th>cp</th>\n",
       "      <th>trestbps</th>\n",
       "      <th>chol</th>\n",
       "      <th>fbs</th>\n",
       "      <th>restecg</th>\n",
       "      <th>thalach</th>\n",
       "      <th>exang</th>\n",
       "      <th>oldpeak</th>\n",
       "      <th>slope</th>\n",
       "      <th>ca</th>\n",
       "      <th>thal</th>\n",
       "      <th>target</th>\n",
       "    </tr>\n",
       "  </thead>\n",
       "  <tbody>\n",
       "    <tr>\n",
       "      <th>0</th>\n",
       "      <td>63</td>\n",
       "      <td>1</td>\n",
       "      <td>3</td>\n",
       "      <td>145</td>\n",
       "      <td>233</td>\n",
       "      <td>1</td>\n",
       "      <td>0</td>\n",
       "      <td>150</td>\n",
       "      <td>0</td>\n",
       "      <td>2.3</td>\n",
       "      <td>0</td>\n",
       "      <td>0</td>\n",
       "      <td>1</td>\n",
       "      <td>1</td>\n",
       "    </tr>\n",
       "    <tr>\n",
       "      <th>1</th>\n",
       "      <td>37</td>\n",
       "      <td>1</td>\n",
       "      <td>2</td>\n",
       "      <td>130</td>\n",
       "      <td>250</td>\n",
       "      <td>0</td>\n",
       "      <td>1</td>\n",
       "      <td>187</td>\n",
       "      <td>0</td>\n",
       "      <td>3.5</td>\n",
       "      <td>0</td>\n",
       "      <td>0</td>\n",
       "      <td>2</td>\n",
       "      <td>1</td>\n",
       "    </tr>\n",
       "    <tr>\n",
       "      <th>2</th>\n",
       "      <td>41</td>\n",
       "      <td>0</td>\n",
       "      <td>1</td>\n",
       "      <td>130</td>\n",
       "      <td>204</td>\n",
       "      <td>0</td>\n",
       "      <td>0</td>\n",
       "      <td>172</td>\n",
       "      <td>0</td>\n",
       "      <td>1.4</td>\n",
       "      <td>2</td>\n",
       "      <td>0</td>\n",
       "      <td>2</td>\n",
       "      <td>1</td>\n",
       "    </tr>\n",
       "    <tr>\n",
       "      <th>3</th>\n",
       "      <td>56</td>\n",
       "      <td>1</td>\n",
       "      <td>1</td>\n",
       "      <td>120</td>\n",
       "      <td>236</td>\n",
       "      <td>0</td>\n",
       "      <td>1</td>\n",
       "      <td>178</td>\n",
       "      <td>0</td>\n",
       "      <td>0.8</td>\n",
       "      <td>2</td>\n",
       "      <td>0</td>\n",
       "      <td>2</td>\n",
       "      <td>1</td>\n",
       "    </tr>\n",
       "    <tr>\n",
       "      <th>4</th>\n",
       "      <td>57</td>\n",
       "      <td>0</td>\n",
       "      <td>0</td>\n",
       "      <td>120</td>\n",
       "      <td>354</td>\n",
       "      <td>0</td>\n",
       "      <td>1</td>\n",
       "      <td>163</td>\n",
       "      <td>1</td>\n",
       "      <td>0.6</td>\n",
       "      <td>2</td>\n",
       "      <td>0</td>\n",
       "      <td>2</td>\n",
       "      <td>1</td>\n",
       "    </tr>\n",
       "  </tbody>\n",
       "</table>\n",
       "</div>"
      ],
      "text/plain": [
       "   age  sex  cp  trestbps  chol  fbs  restecg  thalach  exang  oldpeak  slope  \\\n",
       "0   63    1   3       145   233    1        0      150      0      2.3      0   \n",
       "1   37    1   2       130   250    0        1      187      0      3.5      0   \n",
       "2   41    0   1       130   204    0        0      172      0      1.4      2   \n",
       "3   56    1   1       120   236    0        1      178      0      0.8      2   \n",
       "4   57    0   0       120   354    0        1      163      1      0.6      2   \n",
       "\n",
       "   ca  thal  target  \n",
       "0   0     1       1  \n",
       "1   0     2       1  \n",
       "2   0     2       1  \n",
       "3   0     2       1  \n",
       "4   0     2       1  "
      ]
     },
     "execution_count": 137,
     "metadata": {},
     "output_type": "execute_result"
    }
   ],
   "source": [
    "# print first 5 rows of the dataset\n",
    "heart_data.head()"
   ]
  },
  {
   "cell_type": "markdown",
   "id": "6bd96603-a359-4e39-bff7-2b3d78f03b37",
   "metadata": {},
   "source": [
    "##### As we can see from above dataset entries some of the features should be nominal and to be encoded as their category type. In the next step we will be encoding features to their respective category as per the dataset description."
   ]
  },
  {
   "cell_type": "code",
   "execution_count": 138,
   "id": "50c79790-ca90-4318-a526-5c9a56a743a0",
   "metadata": {},
   "outputs": [
    {
     "data": {
      "text/plain": [
       "(303, 14)"
      ]
     },
     "execution_count": 138,
     "metadata": {},
     "output_type": "execute_result"
    }
   ],
   "source": [
    "# number of rows and columns in the dataset\n",
    "heart_data.shape"
   ]
  },
  {
   "cell_type": "markdown",
   "id": "6264ef2d-bd0f-4bc8-ba35-90192c20c17c",
   "metadata": {},
   "source": [
    "### 4. Data cleaning and Preprocessing\n",
    "\n",
    "##### In this step we will first change the name of columns as some of the columns have weird naming pattern and then we will encode the features into categorical variables."
   ]
  },
  {
   "cell_type": "code",
   "execution_count": 139,
   "id": "dabeaabd-c822-46a0-963b-6954f1a56511",
   "metadata": {},
   "outputs": [],
   "source": [
    "# renaming features to proper name\n",
    "heart_data.columns = ['age', 'sex', 'chest_pain_type', 'resting_blood_pressure', 'cholesterol', 'fasting_blood_sugar', 'rest_ecg', 'max_heart_rate_achieved',\n",
    "       'exercise_induced_angina', 'st_depression', 'st_slope', 'major_color_vessel', 'thalassemia', 'target']"
   ]
  },
  {
   "cell_type": "code",
   "execution_count": 140,
   "id": "21b79268-5717-4dde-bf5b-09d5cbdfadfc",
   "metadata": {},
   "outputs": [],
   "source": [
    "# converting features to categorical features \n",
    "\n",
    "# [heart_data['sex'] == 0] = 'female'\n",
    "# [heart_data['sex'] == 1] = 'male'\n",
    "\n",
    "# [heart_data['chest_pain_type'] == 0] = 'typical angina'\n",
    "# [heart_data['chest_pain_type'] == 1] = 'atypical angina'\n",
    "# [heart_data['chest_pain_type'] == 2] = 'non-anginal pain'\n",
    "# [heart_data['chest_pain_type'] == 3] = 'asymptomatic'\n",
    "\n",
    "# [heart_data['rest_ecg'] == 0] = 'normal'\n",
    "# [heart_data['rest_ecg'] == 1] = 'ST-T wave abnormality'\n",
    "# [heart_data['rest_ecg'] == 2] = 'left ventricular hypertrophy'\n",
    "\n",
    "# [heart_data['st_slope'] == 0] = 'upsloping'\n",
    "# [heart_data['st_slope'] == 1] = 'flat'\n",
    "# [heart_data['st_slope'] == 2] = 'downsloping'\n",
    "\n",
    "# [heart_data['target'] == 0] = 'no disease'\n",
    "# [heart_data['target'] == 1] = 'disease'"
   ]
  },
  {
   "cell_type": "code",
   "execution_count": 141,
   "id": "065ca295-44a4-4025-946f-aff6a3495c61",
   "metadata": {},
   "outputs": [
    {
     "data": {
      "text/plain": [
       "0    143\n",
       "2     87\n",
       "1     50\n",
       "3     23\n",
       "Name: chest_pain_type, dtype: int64"
      ]
     },
     "execution_count": 141,
     "metadata": {},
     "output_type": "execute_result"
    }
   ],
   "source": [
    "heart_data['chest_pain_type'].value_counts()"
   ]
  },
  {
   "cell_type": "code",
   "execution_count": 142,
   "id": "c10355ad-cc9a-46dc-9636-01913ddb0aba",
   "metadata": {},
   "outputs": [
    {
     "data": {
      "text/plain": [
       "1    152\n",
       "0    147\n",
       "2      4\n",
       "Name: rest_ecg, dtype: int64"
      ]
     },
     "execution_count": 142,
     "metadata": {},
     "output_type": "execute_result"
    }
   ],
   "source": [
    "heart_data['rest_ecg'].value_counts()"
   ]
  },
  {
   "cell_type": "code",
   "execution_count": 143,
   "id": "c9a88bab-2f82-44df-a2b6-b49a1930ef0e",
   "metadata": {},
   "outputs": [
    {
     "data": {
      "text/plain": [
       "2    142\n",
       "1    140\n",
       "0     21\n",
       "Name: st_slope, dtype: int64"
      ]
     },
     "execution_count": 143,
     "metadata": {},
     "output_type": "execute_result"
    }
   ],
   "source": [
    "heart_data['st_slope'].value_counts()"
   ]
  },
  {
   "cell_type": "code",
   "execution_count": 144,
   "id": "6bddc475-7bd7-4d9b-8df2-3e749123704e",
   "metadata": {},
   "outputs": [
    {
     "data": {
      "text/html": [
       "<div>\n",
       "<style scoped>\n",
       "    .dataframe tbody tr th:only-of-type {\n",
       "        vertical-align: middle;\n",
       "    }\n",
       "\n",
       "    .dataframe tbody tr th {\n",
       "        vertical-align: top;\n",
       "    }\n",
       "\n",
       "    .dataframe thead th {\n",
       "        text-align: right;\n",
       "    }\n",
       "</style>\n",
       "<table border=\"1\" class=\"dataframe\">\n",
       "  <thead>\n",
       "    <tr style=\"text-align: right;\">\n",
       "      <th></th>\n",
       "      <th>age</th>\n",
       "      <th>sex</th>\n",
       "      <th>chest_pain_type</th>\n",
       "      <th>resting_blood_pressure</th>\n",
       "      <th>cholesterol</th>\n",
       "      <th>fasting_blood_sugar</th>\n",
       "      <th>rest_ecg</th>\n",
       "      <th>max_heart_rate_achieved</th>\n",
       "      <th>exercise_induced_angina</th>\n",
       "      <th>st_depression</th>\n",
       "      <th>st_slope</th>\n",
       "      <th>major_color_vessel</th>\n",
       "      <th>thalassemia</th>\n",
       "      <th>target</th>\n",
       "    </tr>\n",
       "  </thead>\n",
       "  <tbody>\n",
       "    <tr>\n",
       "      <th>0</th>\n",
       "      <td>63</td>\n",
       "      <td>1</td>\n",
       "      <td>3</td>\n",
       "      <td>145</td>\n",
       "      <td>233</td>\n",
       "      <td>1</td>\n",
       "      <td>0</td>\n",
       "      <td>150</td>\n",
       "      <td>0</td>\n",
       "      <td>2.3</td>\n",
       "      <td>0</td>\n",
       "      <td>0</td>\n",
       "      <td>1</td>\n",
       "      <td>1</td>\n",
       "    </tr>\n",
       "    <tr>\n",
       "      <th>1</th>\n",
       "      <td>37</td>\n",
       "      <td>1</td>\n",
       "      <td>2</td>\n",
       "      <td>130</td>\n",
       "      <td>250</td>\n",
       "      <td>0</td>\n",
       "      <td>1</td>\n",
       "      <td>187</td>\n",
       "      <td>0</td>\n",
       "      <td>3.5</td>\n",
       "      <td>0</td>\n",
       "      <td>0</td>\n",
       "      <td>2</td>\n",
       "      <td>1</td>\n",
       "    </tr>\n",
       "    <tr>\n",
       "      <th>2</th>\n",
       "      <td>41</td>\n",
       "      <td>0</td>\n",
       "      <td>1</td>\n",
       "      <td>130</td>\n",
       "      <td>204</td>\n",
       "      <td>0</td>\n",
       "      <td>0</td>\n",
       "      <td>172</td>\n",
       "      <td>0</td>\n",
       "      <td>1.4</td>\n",
       "      <td>2</td>\n",
       "      <td>0</td>\n",
       "      <td>2</td>\n",
       "      <td>1</td>\n",
       "    </tr>\n",
       "    <tr>\n",
       "      <th>3</th>\n",
       "      <td>56</td>\n",
       "      <td>1</td>\n",
       "      <td>1</td>\n",
       "      <td>120</td>\n",
       "      <td>236</td>\n",
       "      <td>0</td>\n",
       "      <td>1</td>\n",
       "      <td>178</td>\n",
       "      <td>0</td>\n",
       "      <td>0.8</td>\n",
       "      <td>2</td>\n",
       "      <td>0</td>\n",
       "      <td>2</td>\n",
       "      <td>1</td>\n",
       "    </tr>\n",
       "    <tr>\n",
       "      <th>4</th>\n",
       "      <td>57</td>\n",
       "      <td>0</td>\n",
       "      <td>0</td>\n",
       "      <td>120</td>\n",
       "      <td>354</td>\n",
       "      <td>0</td>\n",
       "      <td>1</td>\n",
       "      <td>163</td>\n",
       "      <td>1</td>\n",
       "      <td>0.6</td>\n",
       "      <td>2</td>\n",
       "      <td>0</td>\n",
       "      <td>2</td>\n",
       "      <td>1</td>\n",
       "    </tr>\n",
       "  </tbody>\n",
       "</table>\n",
       "</div>"
      ],
      "text/plain": [
       "   age  sex  chest_pain_type  resting_blood_pressure  cholesterol  \\\n",
       "0   63    1                3                     145          233   \n",
       "1   37    1                2                     130          250   \n",
       "2   41    0                1                     130          204   \n",
       "3   56    1                1                     120          236   \n",
       "4   57    0                0                     120          354   \n",
       "\n",
       "   fasting_blood_sugar  rest_ecg  max_heart_rate_achieved  \\\n",
       "0                    1         0                      150   \n",
       "1                    0         1                      187   \n",
       "2                    0         0                      172   \n",
       "3                    0         1                      178   \n",
       "4                    0         1                      163   \n",
       "\n",
       "   exercise_induced_angina  st_depression  st_slope  major_color_vessel  \\\n",
       "0                        0            2.3         0                   0   \n",
       "1                        0            3.5         0                   0   \n",
       "2                        0            1.4         2                   0   \n",
       "3                        0            0.8         2                   0   \n",
       "4                        1            0.6         2                   0   \n",
       "\n",
       "   thalassemia  target  \n",
       "0            1       1  \n",
       "1            2       1  \n",
       "2            2       1  \n",
       "3            2       1  \n",
       "4            2       1  "
      ]
     },
     "execution_count": 144,
     "metadata": {},
     "output_type": "execute_result"
    }
   ],
   "source": [
    "# checking the top 5 entries of dataset after feature encoding\n",
    "heart_data.head()"
   ]
  },
  {
   "cell_type": "code",
   "execution_count": 145,
   "id": "9c71acde-2103-40b5-9d14-c9f7e44a9827",
   "metadata": {},
   "outputs": [
    {
     "data": {
      "text/plain": [
       "age                        0\n",
       "sex                        0\n",
       "chest_pain_type            0\n",
       "resting_blood_pressure     0\n",
       "cholesterol                0\n",
       "fasting_blood_sugar        0\n",
       "rest_ecg                   0\n",
       "max_heart_rate_achieved    0\n",
       "exercise_induced_angina    0\n",
       "st_depression              0\n",
       "st_slope                   0\n",
       "major_color_vessel         0\n",
       "thalassemia                0\n",
       "target                     0\n",
       "dtype: int64"
      ]
     },
     "execution_count": 145,
     "metadata": {},
     "output_type": "execute_result"
    }
   ],
   "source": [
    "## Checking missing entries in the dataset columnwise\n",
    "heart_data.isna().sum()"
   ]
  },
  {
   "cell_type": "markdown",
   "id": "901ec228-7ccb-4e35-9106-32f9ac550aad",
   "metadata": {},
   "source": [
    "##### So, there are no missing entries in the dataset thats great. Next we will move towards exploring the dataset by performing detailed EDA.\n",
    "\n",
    "### 5. Exploratory Data Analysis (EDA) "
   ]
  },
  {
   "cell_type": "code",
   "execution_count": 146,
   "id": "85901175-2482-4a79-8654-04531e21b49b",
   "metadata": {},
   "outputs": [
    {
     "data": {
      "text/plain": [
       "(303, 14)"
      ]
     },
     "execution_count": 146,
     "metadata": {},
     "output_type": "execute_result"
    }
   ],
   "source": [
    "# first checking the shape of the dataset\n",
    "heart_data.shape"
   ]
  },
  {
   "cell_type": "code",
   "execution_count": 147,
   "id": "7f8e1eff-b9ef-4afe-a0c7-76348db60e56",
   "metadata": {},
   "outputs": [
    {
     "data": {
      "text/html": [
       "<div>\n",
       "<style scoped>\n",
       "    .dataframe tbody tr th:only-of-type {\n",
       "        vertical-align: middle;\n",
       "    }\n",
       "\n",
       "    .dataframe tbody tr th {\n",
       "        vertical-align: top;\n",
       "    }\n",
       "\n",
       "    .dataframe thead th {\n",
       "        text-align: right;\n",
       "    }\n",
       "</style>\n",
       "<table border=\"1\" class=\"dataframe\">\n",
       "  <thead>\n",
       "    <tr style=\"text-align: right;\">\n",
       "      <th></th>\n",
       "      <th>age</th>\n",
       "      <th>sex</th>\n",
       "      <th>chest_pain_type</th>\n",
       "      <th>resting_blood_pressure</th>\n",
       "      <th>cholesterol</th>\n",
       "      <th>fasting_blood_sugar</th>\n",
       "      <th>rest_ecg</th>\n",
       "      <th>max_heart_rate_achieved</th>\n",
       "      <th>exercise_induced_angina</th>\n",
       "      <th>st_depression</th>\n",
       "      <th>st_slope</th>\n",
       "      <th>major_color_vessel</th>\n",
       "      <th>thalassemia</th>\n",
       "      <th>target</th>\n",
       "    </tr>\n",
       "  </thead>\n",
       "  <tbody>\n",
       "    <tr>\n",
       "      <th>count</th>\n",
       "      <td>303.000000</td>\n",
       "      <td>303.000000</td>\n",
       "      <td>303.000000</td>\n",
       "      <td>303.000000</td>\n",
       "      <td>303.000000</td>\n",
       "      <td>303.000000</td>\n",
       "      <td>303.000000</td>\n",
       "      <td>303.000000</td>\n",
       "      <td>303.000000</td>\n",
       "      <td>303.000000</td>\n",
       "      <td>303.000000</td>\n",
       "      <td>303.000000</td>\n",
       "      <td>303.000000</td>\n",
       "      <td>303.000000</td>\n",
       "    </tr>\n",
       "    <tr>\n",
       "      <th>mean</th>\n",
       "      <td>54.366337</td>\n",
       "      <td>0.683168</td>\n",
       "      <td>0.966997</td>\n",
       "      <td>131.623762</td>\n",
       "      <td>246.264026</td>\n",
       "      <td>0.148515</td>\n",
       "      <td>0.528053</td>\n",
       "      <td>149.646865</td>\n",
       "      <td>0.326733</td>\n",
       "      <td>1.039604</td>\n",
       "      <td>1.399340</td>\n",
       "      <td>0.729373</td>\n",
       "      <td>2.313531</td>\n",
       "      <td>0.544554</td>\n",
       "    </tr>\n",
       "    <tr>\n",
       "      <th>std</th>\n",
       "      <td>9.082101</td>\n",
       "      <td>0.466011</td>\n",
       "      <td>1.032052</td>\n",
       "      <td>17.538143</td>\n",
       "      <td>51.830751</td>\n",
       "      <td>0.356198</td>\n",
       "      <td>0.525860</td>\n",
       "      <td>22.905161</td>\n",
       "      <td>0.469794</td>\n",
       "      <td>1.161075</td>\n",
       "      <td>0.616226</td>\n",
       "      <td>1.022606</td>\n",
       "      <td>0.612277</td>\n",
       "      <td>0.498835</td>\n",
       "    </tr>\n",
       "    <tr>\n",
       "      <th>min</th>\n",
       "      <td>29.000000</td>\n",
       "      <td>0.000000</td>\n",
       "      <td>0.000000</td>\n",
       "      <td>94.000000</td>\n",
       "      <td>126.000000</td>\n",
       "      <td>0.000000</td>\n",
       "      <td>0.000000</td>\n",
       "      <td>71.000000</td>\n",
       "      <td>0.000000</td>\n",
       "      <td>0.000000</td>\n",
       "      <td>0.000000</td>\n",
       "      <td>0.000000</td>\n",
       "      <td>0.000000</td>\n",
       "      <td>0.000000</td>\n",
       "    </tr>\n",
       "    <tr>\n",
       "      <th>25%</th>\n",
       "      <td>47.500000</td>\n",
       "      <td>0.000000</td>\n",
       "      <td>0.000000</td>\n",
       "      <td>120.000000</td>\n",
       "      <td>211.000000</td>\n",
       "      <td>0.000000</td>\n",
       "      <td>0.000000</td>\n",
       "      <td>133.500000</td>\n",
       "      <td>0.000000</td>\n",
       "      <td>0.000000</td>\n",
       "      <td>1.000000</td>\n",
       "      <td>0.000000</td>\n",
       "      <td>2.000000</td>\n",
       "      <td>0.000000</td>\n",
       "    </tr>\n",
       "    <tr>\n",
       "      <th>50%</th>\n",
       "      <td>55.000000</td>\n",
       "      <td>1.000000</td>\n",
       "      <td>1.000000</td>\n",
       "      <td>130.000000</td>\n",
       "      <td>240.000000</td>\n",
       "      <td>0.000000</td>\n",
       "      <td>1.000000</td>\n",
       "      <td>153.000000</td>\n",
       "      <td>0.000000</td>\n",
       "      <td>0.800000</td>\n",
       "      <td>1.000000</td>\n",
       "      <td>0.000000</td>\n",
       "      <td>2.000000</td>\n",
       "      <td>1.000000</td>\n",
       "    </tr>\n",
       "    <tr>\n",
       "      <th>75%</th>\n",
       "      <td>61.000000</td>\n",
       "      <td>1.000000</td>\n",
       "      <td>2.000000</td>\n",
       "      <td>140.000000</td>\n",
       "      <td>274.500000</td>\n",
       "      <td>0.000000</td>\n",
       "      <td>1.000000</td>\n",
       "      <td>166.000000</td>\n",
       "      <td>1.000000</td>\n",
       "      <td>1.600000</td>\n",
       "      <td>2.000000</td>\n",
       "      <td>1.000000</td>\n",
       "      <td>3.000000</td>\n",
       "      <td>1.000000</td>\n",
       "    </tr>\n",
       "    <tr>\n",
       "      <th>max</th>\n",
       "      <td>77.000000</td>\n",
       "      <td>1.000000</td>\n",
       "      <td>3.000000</td>\n",
       "      <td>200.000000</td>\n",
       "      <td>564.000000</td>\n",
       "      <td>1.000000</td>\n",
       "      <td>2.000000</td>\n",
       "      <td>202.000000</td>\n",
       "      <td>1.000000</td>\n",
       "      <td>6.200000</td>\n",
       "      <td>2.000000</td>\n",
       "      <td>4.000000</td>\n",
       "      <td>3.000000</td>\n",
       "      <td>1.000000</td>\n",
       "    </tr>\n",
       "  </tbody>\n",
       "</table>\n",
       "</div>"
      ],
      "text/plain": [
       "              age         sex  chest_pain_type  resting_blood_pressure  \\\n",
       "count  303.000000  303.000000       303.000000              303.000000   \n",
       "mean    54.366337    0.683168         0.966997              131.623762   \n",
       "std      9.082101    0.466011         1.032052               17.538143   \n",
       "min     29.000000    0.000000         0.000000               94.000000   \n",
       "25%     47.500000    0.000000         0.000000              120.000000   \n",
       "50%     55.000000    1.000000         1.000000              130.000000   \n",
       "75%     61.000000    1.000000         2.000000              140.000000   \n",
       "max     77.000000    1.000000         3.000000              200.000000   \n",
       "\n",
       "       cholesterol  fasting_blood_sugar    rest_ecg  max_heart_rate_achieved  \\\n",
       "count   303.000000           303.000000  303.000000               303.000000   \n",
       "mean    246.264026             0.148515    0.528053               149.646865   \n",
       "std      51.830751             0.356198    0.525860                22.905161   \n",
       "min     126.000000             0.000000    0.000000                71.000000   \n",
       "25%     211.000000             0.000000    0.000000               133.500000   \n",
       "50%     240.000000             0.000000    1.000000               153.000000   \n",
       "75%     274.500000             0.000000    1.000000               166.000000   \n",
       "max     564.000000             1.000000    2.000000               202.000000   \n",
       "\n",
       "       exercise_induced_angina  st_depression    st_slope  major_color_vessel  \\\n",
       "count               303.000000     303.000000  303.000000          303.000000   \n",
       "mean                  0.326733       1.039604    1.399340            0.729373   \n",
       "std                   0.469794       1.161075    0.616226            1.022606   \n",
       "min                   0.000000       0.000000    0.000000            0.000000   \n",
       "25%                   0.000000       0.000000    1.000000            0.000000   \n",
       "50%                   0.000000       0.800000    1.000000            0.000000   \n",
       "75%                   1.000000       1.600000    2.000000            1.000000   \n",
       "max                   1.000000       6.200000    2.000000            4.000000   \n",
       "\n",
       "       thalassemia      target  \n",
       "count   303.000000  303.000000  \n",
       "mean      2.313531    0.544554  \n",
       "std       0.612277    0.498835  \n",
       "min       0.000000    0.000000  \n",
       "25%       2.000000    0.000000  \n",
       "50%       2.000000    1.000000  \n",
       "75%       3.000000    1.000000  \n",
       "max       3.000000    1.000000  "
      ]
     },
     "execution_count": 147,
     "metadata": {},
     "output_type": "execute_result"
    }
   ],
   "source": [
    "heart_data.describe()"
   ]
  },
  {
   "cell_type": "code",
   "execution_count": 150,
   "id": "768b64d9-db16-4fc0-ab5d-07fe835bf0f9",
   "metadata": {},
   "outputs": [
    {
     "data": {
      "text/html": [
       "<div>\n",
       "<style scoped>\n",
       "    .dataframe tbody tr th:only-of-type {\n",
       "        vertical-align: middle;\n",
       "    }\n",
       "\n",
       "    .dataframe tbody tr th {\n",
       "        vertical-align: top;\n",
       "    }\n",
       "\n",
       "    .dataframe thead th {\n",
       "        text-align: right;\n",
       "    }\n",
       "</style>\n",
       "<table border=\"1\" class=\"dataframe\">\n",
       "  <thead>\n",
       "    <tr style=\"text-align: right;\">\n",
       "      <th></th>\n",
       "      <th>age</th>\n",
       "      <th>sex</th>\n",
       "      <th>chest_pain_type</th>\n",
       "      <th>resting_blood_pressure</th>\n",
       "      <th>cholesterol</th>\n",
       "      <th>fasting_blood_sugar</th>\n",
       "      <th>rest_ecg</th>\n",
       "      <th>max_heart_rate_achieved</th>\n",
       "      <th>exercise_induced_angina</th>\n",
       "      <th>st_depression</th>\n",
       "      <th>st_slope</th>\n",
       "      <th>major_color_vessel</th>\n",
       "      <th>thalassemia</th>\n",
       "      <th>target</th>\n",
       "    </tr>\n",
       "  </thead>\n",
       "  <tbody>\n",
       "    <tr>\n",
       "      <th>count</th>\n",
       "      <td>303.000000</td>\n",
       "      <td>303.000000</td>\n",
       "      <td>303.000000</td>\n",
       "      <td>303.000000</td>\n",
       "      <td>303.000000</td>\n",
       "      <td>303.000000</td>\n",
       "      <td>303.000000</td>\n",
       "      <td>303.000000</td>\n",
       "      <td>303.000000</td>\n",
       "      <td>303.000000</td>\n",
       "      <td>303.000000</td>\n",
       "      <td>303.000000</td>\n",
       "      <td>303.000000</td>\n",
       "      <td>303.000000</td>\n",
       "    </tr>\n",
       "    <tr>\n",
       "      <th>mean</th>\n",
       "      <td>54.366337</td>\n",
       "      <td>0.683168</td>\n",
       "      <td>0.966997</td>\n",
       "      <td>131.623762</td>\n",
       "      <td>246.264026</td>\n",
       "      <td>0.148515</td>\n",
       "      <td>0.528053</td>\n",
       "      <td>149.646865</td>\n",
       "      <td>0.326733</td>\n",
       "      <td>1.039604</td>\n",
       "      <td>1.399340</td>\n",
       "      <td>0.729373</td>\n",
       "      <td>2.313531</td>\n",
       "      <td>0.544554</td>\n",
       "    </tr>\n",
       "    <tr>\n",
       "      <th>std</th>\n",
       "      <td>9.082101</td>\n",
       "      <td>0.466011</td>\n",
       "      <td>1.032052</td>\n",
       "      <td>17.538143</td>\n",
       "      <td>51.830751</td>\n",
       "      <td>0.356198</td>\n",
       "      <td>0.525860</td>\n",
       "      <td>22.905161</td>\n",
       "      <td>0.469794</td>\n",
       "      <td>1.161075</td>\n",
       "      <td>0.616226</td>\n",
       "      <td>1.022606</td>\n",
       "      <td>0.612277</td>\n",
       "      <td>0.498835</td>\n",
       "    </tr>\n",
       "    <tr>\n",
       "      <th>min</th>\n",
       "      <td>29.000000</td>\n",
       "      <td>0.000000</td>\n",
       "      <td>0.000000</td>\n",
       "      <td>94.000000</td>\n",
       "      <td>126.000000</td>\n",
       "      <td>0.000000</td>\n",
       "      <td>0.000000</td>\n",
       "      <td>71.000000</td>\n",
       "      <td>0.000000</td>\n",
       "      <td>0.000000</td>\n",
       "      <td>0.000000</td>\n",
       "      <td>0.000000</td>\n",
       "      <td>0.000000</td>\n",
       "      <td>0.000000</td>\n",
       "    </tr>\n",
       "    <tr>\n",
       "      <th>25%</th>\n",
       "      <td>47.500000</td>\n",
       "      <td>0.000000</td>\n",
       "      <td>0.000000</td>\n",
       "      <td>120.000000</td>\n",
       "      <td>211.000000</td>\n",
       "      <td>0.000000</td>\n",
       "      <td>0.000000</td>\n",
       "      <td>133.500000</td>\n",
       "      <td>0.000000</td>\n",
       "      <td>0.000000</td>\n",
       "      <td>1.000000</td>\n",
       "      <td>0.000000</td>\n",
       "      <td>2.000000</td>\n",
       "      <td>0.000000</td>\n",
       "    </tr>\n",
       "    <tr>\n",
       "      <th>50%</th>\n",
       "      <td>55.000000</td>\n",
       "      <td>1.000000</td>\n",
       "      <td>1.000000</td>\n",
       "      <td>130.000000</td>\n",
       "      <td>240.000000</td>\n",
       "      <td>0.000000</td>\n",
       "      <td>1.000000</td>\n",
       "      <td>153.000000</td>\n",
       "      <td>0.000000</td>\n",
       "      <td>0.800000</td>\n",
       "      <td>1.000000</td>\n",
       "      <td>0.000000</td>\n",
       "      <td>2.000000</td>\n",
       "      <td>1.000000</td>\n",
       "    </tr>\n",
       "    <tr>\n",
       "      <th>75%</th>\n",
       "      <td>61.000000</td>\n",
       "      <td>1.000000</td>\n",
       "      <td>2.000000</td>\n",
       "      <td>140.000000</td>\n",
       "      <td>274.500000</td>\n",
       "      <td>0.000000</td>\n",
       "      <td>1.000000</td>\n",
       "      <td>166.000000</td>\n",
       "      <td>1.000000</td>\n",
       "      <td>1.600000</td>\n",
       "      <td>2.000000</td>\n",
       "      <td>1.000000</td>\n",
       "      <td>3.000000</td>\n",
       "      <td>1.000000</td>\n",
       "    </tr>\n",
       "    <tr>\n",
       "      <th>max</th>\n",
       "      <td>77.000000</td>\n",
       "      <td>1.000000</td>\n",
       "      <td>3.000000</td>\n",
       "      <td>200.000000</td>\n",
       "      <td>564.000000</td>\n",
       "      <td>1.000000</td>\n",
       "      <td>2.000000</td>\n",
       "      <td>202.000000</td>\n",
       "      <td>1.000000</td>\n",
       "      <td>6.200000</td>\n",
       "      <td>2.000000</td>\n",
       "      <td>4.000000</td>\n",
       "      <td>3.000000</td>\n",
       "      <td>1.000000</td>\n",
       "    </tr>\n",
       "  </tbody>\n",
       "</table>\n",
       "</div>"
      ],
      "text/plain": [
       "              age         sex  chest_pain_type  resting_blood_pressure  \\\n",
       "count  303.000000  303.000000       303.000000              303.000000   \n",
       "mean    54.366337    0.683168         0.966997              131.623762   \n",
       "std      9.082101    0.466011         1.032052               17.538143   \n",
       "min     29.000000    0.000000         0.000000               94.000000   \n",
       "25%     47.500000    0.000000         0.000000              120.000000   \n",
       "50%     55.000000    1.000000         1.000000              130.000000   \n",
       "75%     61.000000    1.000000         2.000000              140.000000   \n",
       "max     77.000000    1.000000         3.000000              200.000000   \n",
       "\n",
       "       cholesterol  fasting_blood_sugar    rest_ecg  max_heart_rate_achieved  \\\n",
       "count   303.000000           303.000000  303.000000               303.000000   \n",
       "mean    246.264026             0.148515    0.528053               149.646865   \n",
       "std      51.830751             0.356198    0.525860                22.905161   \n",
       "min     126.000000             0.000000    0.000000                71.000000   \n",
       "25%     211.000000             0.000000    0.000000               133.500000   \n",
       "50%     240.000000             0.000000    1.000000               153.000000   \n",
       "75%     274.500000             0.000000    1.000000               166.000000   \n",
       "max     564.000000             1.000000    2.000000               202.000000   \n",
       "\n",
       "       exercise_induced_angina  st_depression    st_slope  major_color_vessel  \\\n",
       "count               303.000000     303.000000  303.000000          303.000000   \n",
       "mean                  0.326733       1.039604    1.399340            0.729373   \n",
       "std                   0.469794       1.161075    0.616226            1.022606   \n",
       "min                   0.000000       0.000000    0.000000            0.000000   \n",
       "25%                   0.000000       0.000000    1.000000            0.000000   \n",
       "50%                   0.000000       0.800000    1.000000            0.000000   \n",
       "75%                   1.000000       1.600000    2.000000            1.000000   \n",
       "max                   1.000000       6.200000    2.000000            4.000000   \n",
       "\n",
       "       thalassemia      target  \n",
       "count   303.000000  303.000000  \n",
       "mean      2.313531    0.544554  \n",
       "std       0.612277    0.498835  \n",
       "min       0.000000    0.000000  \n",
       "25%       2.000000    0.000000  \n",
       "50%       2.000000    1.000000  \n",
       "75%       3.000000    1.000000  \n",
       "max       3.000000    1.000000  "
      ]
     },
     "execution_count": 150,
     "metadata": {},
     "output_type": "execute_result"
    }
   ],
   "source": [
    "# summary statistics of categorical columns\n",
    "heart_data.describe()"
   ]
  },
  {
   "cell_type": "markdown",
   "id": "9b2ee209-f706-4db9-9a76-17fa4fc156b4",
   "metadata": {},
   "source": [
    "#### Distribution of Heart disease (target variable)"
   ]
  },
  {
   "cell_type": "code",
   "execution_count": 151,
   "id": "1e227ee3-57fa-444f-948a-6a4dd6a20156",
   "metadata": {},
   "outputs": [
    {
     "data": {
      "image/png": "[encoded data removed]",
      "text/plain": [
       "<Figure size 432x288 with 1 Axes>"
      ]
     },
     "metadata": {
      "needs_background": "light"
     },
     "output_type": "display_data"
    },
    {
     "name": "stdout",
     "output_type": "stream",
     "text": [
      "1    165\n",
      "0    138\n",
      "Name: target, dtype: int64\n"
     ]
    }
   ],
   "source": [
    "#Plotting the outcome col. histogram\n",
    "\n",
    "sns.countplot(x= 'target',data= heart_data)\n",
    "plt.show()\n",
    "y=heart_data.target.value_counts()\n",
    "print(y)"
   ]
  },
  {
   "cell_type": "markdown",
   "id": "1f02ae29-5200-43be-91d7-9d47cfe7b7b7",
   "metadata": {},
   "source": [
    "### Checking gender distribution"
   ]
  },
  {
   "cell_type": "code",
   "execution_count": 152,
   "id": "8a411bf6-1091-454e-a4b0-e3a905d084d7",
   "metadata": {},
   "outputs": [
    {
     "data": {
      "text/plain": [
       "array([1, 0], dtype=int64)"
      ]
     },
     "execution_count": 152,
     "metadata": {},
     "output_type": "execute_result"
    }
   ],
   "source": [
    "heart_data[\"sex\"].unique()"
   ]
  },
  {
   "cell_type": "code",
   "execution_count": 153,
   "id": "08bd2bbe-22c5-47f5-8023-3557bdcdb835",
   "metadata": {},
   "outputs": [
    {
     "name": "stderr",
     "output_type": "stream",
     "text": [
      "C:\\Users\\NIKHIL PAL\\AppData\\Local\\Programs\\Python\\Python39\\lib\\site-packages\\seaborn\\_decorators.py:36: FutureWarning: Pass the following variables as keyword args: x, y. From version 0.12, the only valid positional argument will be `data`, and passing other arguments without an explicit keyword will result in an error or misinterpretation.\n",
      "  warnings.warn(\n"
     ]
    },
    {
     "data": {
      "text/plain": [
       "<AxesSubplot:xlabel='sex', ylabel='target'>"
      ]
     },
     "execution_count": 153,
     "metadata": {},
     "output_type": "execute_result"
    },
    {
     "data": {
      "image/png": "[encoded data removed]",
      "text/plain": [
       "<Figure size 432x288 with 1 Axes>"
      ]
     },
     "metadata": {
      "needs_background": "light"
     },
     "output_type": "display_data"
    }
   ],
   "source": [
    "sns.barplot(heart_data[\"sex\"],y)"
   ]
  },
  {
   "cell_type": "markdown",
   "id": "8c61b76f-9e0d-4815-ab93-90805eaa0143",
   "metadata": {},
   "source": [
    "##### As we can see from above plot, in this dataset males percentage is way too higher than females."
   ]
  },
  {
   "cell_type": "code",
   "execution_count": 154,
   "id": "aad09d95-d0ee-41d6-a997-3bb51b38af7c",
   "metadata": {},
   "outputs": [
    {
     "name": "stderr",
     "output_type": "stream",
     "text": [
      "C:\\Users\\NIKHIL PAL\\AppData\\Local\\Programs\\Python\\Python39\\lib\\site-packages\\seaborn\\distributions.py:2619: FutureWarning: `distplot` is a deprecated function and will be removed in a future version. Please adapt your code to use either `displot` (a figure-level function with similar flexibility) or `histplot` (an axes-level function for histograms).\n",
      "  warnings.warn(msg, FutureWarning)\n",
      "C:\\Users\\NIKHIL PAL\\AppData\\Local\\Programs\\Python\\Python39\\lib\\site-packages\\seaborn\\_decorators.py:36: FutureWarning: Pass the following variable as a keyword arg: x. From version 0.12, the only valid positional argument will be `data`, and passing other arguments without an explicit keyword will result in an error or misinterpretation.\n",
      "  warnings.warn(\n"
     ]
    },
    {
     "data": {
      "image/png": "[encoded data removed]",
      "text/plain": [
       "<Figure size 1080x360 with 2 Axes>"
      ]
     },
     "metadata": {
      "needs_background": "light"
     },
     "output_type": "display_data"
    },
    {
     "name": "stderr",
     "output_type": "stream",
     "text": [
      "C:\\Users\\NIKHIL PAL\\AppData\\Local\\Programs\\Python\\Python39\\lib\\site-packages\\seaborn\\distributions.py:2619: FutureWarning: `distplot` is a deprecated function and will be removed in a future version. Please adapt your code to use either `displot` (a figure-level function with similar flexibility) or `histplot` (an axes-level function for histograms).\n",
      "  warnings.warn(msg, FutureWarning)\n",
      "C:\\Users\\NIKHIL PAL\\AppData\\Local\\Programs\\Python\\Python39\\lib\\site-packages\\seaborn\\_decorators.py:36: FutureWarning: Pass the following variable as a keyword arg: x. From version 0.12, the only valid positional argument will be `data`, and passing other arguments without an explicit keyword will result in an error or misinterpretation.\n",
      "  warnings.warn(\n"
     ]
    },
    {
     "data": {
      "image/png": "[encoded data removed]",
      "text/plain": [
       "<Figure size 1080x360 with 2 Axes>"
      ]
     },
     "metadata": {
      "needs_background": "light"
     },
     "output_type": "display_data"
    }
   ],
   "source": [
    "# creating separate df for normal and heart patients\n",
    "\n",
    "attr_1=heart_data[heart_data['target']==1]\n",
    "\n",
    "attr_0=heart_data[heart_data['target']==0]\n",
    "\n",
    "# plotting normal patients\n",
    "fig = plt.figure(figsize=(15,5))\n",
    "ax1 = plt.subplot2grid((1,2),(0,0))\n",
    "sns.distplot(attr_0['age'])\n",
    "plt.title('AGE DISTRIBUTION OF NORMAL PATIENTS', fontsize=15, weight='bold')\n",
    "\n",
    "ax1 = plt.subplot2grid((1,2),(0,1))\n",
    "sns.countplot(attr_0['sex'], palette='viridis')\n",
    "plt.title('GENDER DISTRIBUTION OF NORMAL PATIENTS', fontsize=15, weight='bold' )\n",
    "plt.show()\n",
    "\n",
    "#plotting heart patients\n",
    "\n",
    "fig = plt.figure(figsize=(15,5))\n",
    "ax1 = plt.subplot2grid((1,2),(0,0))\n",
    "sns.distplot(attr_1['age'])\n",
    "plt.title('AGE DISTRIBUTION OF HEART DISEASE PATIENTS', fontsize=15, weight='bold')\n",
    "\n",
    "ax1 = plt.subplot2grid((1,2),(0,1))\n",
    "sns.countplot(attr_1['sex'], palette='viridis')\n",
    "plt.title('GENDER DISTRIBUTION OF HEART DISEASE PATIENTS', fontsize=15, weight='bold' )\n",
    "plt.show()"
   ]
  },
  {
   "cell_type": "markdown",
   "id": "eb5f9814-f5d0-40db-a0b8-b823220d1ca6",
   "metadata": {},
   "source": [
    "#### As we can see from above plot male patients accounts for heart disease in comparison to females whereas mean age for heart disease patients is around 56 to 60 years."
   ]
  },
  {
   "cell_type": "markdown",
   "id": "f97a37c8-e154-4d10-9058-50148ad02c01",
   "metadata": {},
   "source": [
    "### Distribution of Chest pain type"
   ]
  },
  {
   "cell_type": "code",
   "execution_count": 155,
   "id": "80bc8e96-b438-4ee1-8542-f246373141f2",
   "metadata": {},
   "outputs": [
    {
     "name": "stderr",
     "output_type": "stream",
     "text": [
      "C:\\Users\\NIKHIL PAL\\AppData\\Local\\Programs\\Python\\Python39\\lib\\site-packages\\seaborn\\_decorators.py:36: FutureWarning: Pass the following variable as a keyword arg: x. From version 0.12, the only valid positional argument will be `data`, and passing other arguments without an explicit keyword will result in an error or misinterpretation.\n",
      "  warnings.warn(\n",
      "C:\\Users\\NIKHIL PAL\\AppData\\Local\\Programs\\Python\\Python39\\lib\\site-packages\\seaborn\\_decorators.py:36: FutureWarning: Pass the following variable as a keyword arg: x. From version 0.12, the only valid positional argument will be `data`, and passing other arguments without an explicit keyword will result in an error or misinterpretation.\n",
      "  warnings.warn(\n"
     ]
    },
    {
     "data": {
      "image/png": "[encoded data removed]",
      "text/plain": [
       "<Figure size 1080x360 with 2 Axes>"
      ]
     },
     "metadata": {
      "needs_background": "light"
     },
     "output_type": "display_data"
    }
   ],
   "source": [
    "# plotting normal patients\n",
    "fig = plt.figure(figsize=(15,5))\n",
    "ax1 = plt.subplot2grid((1,2),(0,0))\n",
    "sns.countplot(attr_0['chest_pain_type'])\n",
    "plt.title('CHEST PAIN OF NORMAL PATIENTS', fontsize=15, weight='bold')\n",
    "\n",
    "#plotting heart patients\n",
    "ax1 = plt.subplot2grid((1,2),(0,1))\n",
    "sns.countplot(attr_1['chest_pain_type'], palette='viridis')\n",
    "plt.title('CHEST PAIN OF HEART PATIENTS', fontsize=15, weight='bold' )\n",
    "plt.show()"
   ]
  },
  {
   "cell_type": "code",
   "execution_count": 156,
   "id": "2d569c26-a555-4329-9515-a85fd3ac5981",
   "metadata": {},
   "outputs": [
    {
     "data": {
      "text/html": [
       "<div>\n",
       "<style scoped>\n",
       "    .dataframe tbody tr th:only-of-type {\n",
       "        vertical-align: middle;\n",
       "    }\n",
       "\n",
       "    .dataframe tbody tr th {\n",
       "        vertical-align: top;\n",
       "    }\n",
       "\n",
       "    .dataframe thead th {\n",
       "        text-align: right;\n",
       "    }\n",
       "</style>\n",
       "<table border=\"1\" class=\"dataframe\">\n",
       "  <thead>\n",
       "    <tr style=\"text-align: right;\">\n",
       "      <th>target</th>\n",
       "      <th>0</th>\n",
       "      <th>1</th>\n",
       "    </tr>\n",
       "    <tr>\n",
       "      <th>chest_pain_type</th>\n",
       "      <th></th>\n",
       "      <th></th>\n",
       "    </tr>\n",
       "  </thead>\n",
       "  <tbody>\n",
       "    <tr>\n",
       "      <th>0</th>\n",
       "      <td>75.36</td>\n",
       "      <td>23.64</td>\n",
       "    </tr>\n",
       "    <tr>\n",
       "      <th>1</th>\n",
       "      <td>6.52</td>\n",
       "      <td>24.85</td>\n",
       "    </tr>\n",
       "    <tr>\n",
       "      <th>2</th>\n",
       "      <td>13.04</td>\n",
       "      <td>41.82</td>\n",
       "    </tr>\n",
       "    <tr>\n",
       "      <th>3</th>\n",
       "      <td>5.07</td>\n",
       "      <td>9.70</td>\n",
       "    </tr>\n",
       "  </tbody>\n",
       "</table>\n",
       "</div>"
      ],
      "text/plain": [
       "target               0      1\n",
       "chest_pain_type              \n",
       "0                75.36  23.64\n",
       "1                 6.52  24.85\n",
       "2                13.04  41.82\n",
       "3                 5.07   9.70"
      ]
     },
     "execution_count": 156,
     "metadata": {},
     "output_type": "execute_result"
    }
   ],
   "source": [
    "#Exploring the Heart Disease patients based on Chest Pain Type\n",
    "plot_criteria= ['chest_pain_type', 'target']\n",
    "cm = sns.light_palette(\"red\", as_cmap=True)\n",
    "(round(pd.crosstab(heart_data[plot_criteria[0]], heart_data[plot_criteria[1]], normalize='columns') * 100,2))"
   ]
  },
  {
   "cell_type": "markdown",
   "id": "0ac88581-af62-43e8-acbc-87a52a0f6405",
   "metadata": {},
   "source": [
    "##### As we can see from above plot 41% of the chest pain type of the heart disease patients have non-anginal chest pain."
   ]
  },
  {
   "cell_type": "markdown",
   "id": "fe7c6db7-0fb3-4e9c-8992-3aa6c98be039",
   "metadata": {},
   "source": [
    "### Distribution of rest ECG"
   ]
  },
  {
   "cell_type": "code",
   "execution_count": 157,
   "id": "e8eb32cc-78dc-42d7-896a-994b2cff620a",
   "metadata": {},
   "outputs": [
    {
     "name": "stderr",
     "output_type": "stream",
     "text": [
      "C:\\Users\\NIKHIL PAL\\AppData\\Local\\Programs\\Python\\Python39\\lib\\site-packages\\seaborn\\_decorators.py:36: FutureWarning: Pass the following variable as a keyword arg: x. From version 0.12, the only valid positional argument will be `data`, and passing other arguments without an explicit keyword will result in an error or misinterpretation.\n",
      "  warnings.warn(\n",
      "C:\\Users\\NIKHIL PAL\\AppData\\Local\\Programs\\Python\\Python39\\lib\\site-packages\\seaborn\\_decorators.py:36: FutureWarning: Pass the following variable as a keyword arg: x. From version 0.12, the only valid positional argument will be `data`, and passing other arguments without an explicit keyword will result in an error or misinterpretation.\n",
      "  warnings.warn(\n"
     ]
    },
    {
     "data": {
      "image/png": "[encoded data removed]",
      "text/plain": [
       "<Figure size 1080x360 with 2 Axes>"
      ]
     },
     "metadata": {
      "needs_background": "light"
     },
     "output_type": "display_data"
    }
   ],
   "source": [
    "# plotting normal patients\n",
    "fig = plt.figure(figsize=(15,5))\n",
    "ax1 = plt.subplot2grid((1,2),(0,0))\n",
    "sns.countplot(attr_0['rest_ecg'])\n",
    "plt.title('REST ECG OF NORMAL PATIENTS', fontsize=15, weight='bold')\n",
    "\n",
    "#plotting heart patients\n",
    "ax1 = plt.subplot2grid((1,2),(0,1))\n",
    "sns.countplot(attr_1['rest_ecg'], palette='viridis')\n",
    "plt.title('REST ECG OF HEART PATIENTS', fontsize=15, weight='bold' )\n",
    "plt.show()"
   ]
  },
  {
   "cell_type": "code",
   "execution_count": 158,
   "id": "07454ce8-7994-4f07-a37b-ae7687f8cc2f",
   "metadata": {},
   "outputs": [
    {
     "data": {
      "text/html": [
       "<div>\n",
       "<style scoped>\n",
       "    .dataframe tbody tr th:only-of-type {\n",
       "        vertical-align: middle;\n",
       "    }\n",
       "\n",
       "    .dataframe tbody tr th {\n",
       "        vertical-align: top;\n",
       "    }\n",
       "\n",
       "    .dataframe thead th {\n",
       "        text-align: right;\n",
       "    }\n",
       "</style>\n",
       "<table border=\"1\" class=\"dataframe\">\n",
       "  <thead>\n",
       "    <tr style=\"text-align: right;\">\n",
       "      <th>target</th>\n",
       "      <th>0</th>\n",
       "      <th>1</th>\n",
       "    </tr>\n",
       "    <tr>\n",
       "      <th>rest_ecg</th>\n",
       "      <th></th>\n",
       "      <th></th>\n",
       "    </tr>\n",
       "  </thead>\n",
       "  <tbody>\n",
       "    <tr>\n",
       "      <th>0</th>\n",
       "      <td>57.25</td>\n",
       "      <td>41.21</td>\n",
       "    </tr>\n",
       "    <tr>\n",
       "      <th>1</th>\n",
       "      <td>40.58</td>\n",
       "      <td>58.18</td>\n",
       "    </tr>\n",
       "    <tr>\n",
       "      <th>2</th>\n",
       "      <td>2.17</td>\n",
       "      <td>0.61</td>\n",
       "    </tr>\n",
       "  </tbody>\n",
       "</table>\n",
       "</div>"
      ],
      "text/plain": [
       "target        0      1\n",
       "rest_ecg              \n",
       "0         57.25  41.21\n",
       "1         40.58  58.18\n",
       "2          2.17   0.61"
      ]
     },
     "execution_count": 158,
     "metadata": {},
     "output_type": "execute_result"
    }
   ],
   "source": [
    "#Exploring the Heart Disease patients based on REST ECG\n",
    "plot_criteria= ['rest_ecg', 'target']\n",
    "cm = sns.light_palette(\"red\", as_cmap=True)\n",
    "(round(pd.crosstab(heart_data[plot_criteria[0]], heart_data[plot_criteria[1]], normalize='columns') * 100,2))"
   ]
  },
  {
   "cell_type": "markdown",
   "id": "0ac60404-26fe-4e45-a6d9-7959ba6b786c",
   "metadata": {},
   "source": [
    "#####  In this dataset around 41% heart disease patients have normal ECG."
   ]
  },
  {
   "cell_type": "code",
   "execution_count": 159,
   "id": "4f834258-c651-4a85-ae25-190d160d64fe",
   "metadata": {},
   "outputs": [
    {
     "name": "stderr",
     "output_type": "stream",
     "text": [
      "C:\\Users\\NIKHIL PAL\\AppData\\Local\\Programs\\Python\\Python39\\lib\\site-packages\\seaborn\\_decorators.py:36: FutureWarning: Pass the following variable as a keyword arg: x. From version 0.12, the only valid positional argument will be `data`, and passing other arguments without an explicit keyword will result in an error or misinterpretation.\n",
      "  warnings.warn(\n",
      "C:\\Users\\NIKHIL PAL\\AppData\\Local\\Programs\\Python\\Python39\\lib\\site-packages\\seaborn\\_decorators.py:36: FutureWarning: Pass the following variable as a keyword arg: x. From version 0.12, the only valid positional argument will be `data`, and passing other arguments without an explicit keyword will result in an error or misinterpretation.\n",
      "  warnings.warn(\n"
     ]
    },
    {
     "data": {
      "image/png": "[encoded data removed]",
      "text/plain": [
       "<Figure size 1080x360 with 2 Axes>"
      ]
     },
     "metadata": {
      "needs_background": "light"
     },
     "output_type": "display_data"
    }
   ],
   "source": [
    "# plotting normal patients\n",
    "fig = plt.figure(figsize=(15,5))\n",
    "ax1 = plt.subplot2grid((1,2),(0,0))\n",
    "sns.countplot(attr_0['st_slope'])\n",
    "plt.title('ST SLOPE OF NORMAL PATIENTS', fontsize=15, weight='bold')\n",
    "\n",
    "#plotting heart patients\n",
    "ax1 = plt.subplot2grid((1,2),(0,1))\n",
    "sns.countplot(attr_1['st_slope'], palette='viridis')\n",
    "plt.title('ST SLOPE OF HEART PATIENTS', fontsize=15, weight='bold' )\n",
    "plt.show()"
   ]
  },
  {
   "cell_type": "code",
   "execution_count": 160,
   "id": "2995e942-2ba3-4a2e-9853-c18cd303ce89",
   "metadata": {},
   "outputs": [
    {
     "data": {
      "text/html": [
       "<div>\n",
       "<style scoped>\n",
       "    .dataframe tbody tr th:only-of-type {\n",
       "        vertical-align: middle;\n",
       "    }\n",
       "\n",
       "    .dataframe tbody tr th {\n",
       "        vertical-align: top;\n",
       "    }\n",
       "\n",
       "    .dataframe thead th {\n",
       "        text-align: right;\n",
       "    }\n",
       "</style>\n",
       "<table border=\"1\" class=\"dataframe\">\n",
       "  <thead>\n",
       "    <tr style=\"text-align: right;\">\n",
       "      <th>target</th>\n",
       "      <th>0</th>\n",
       "      <th>1</th>\n",
       "    </tr>\n",
       "    <tr>\n",
       "      <th>st_slope</th>\n",
       "      <th></th>\n",
       "      <th></th>\n",
       "    </tr>\n",
       "  </thead>\n",
       "  <tbody>\n",
       "    <tr>\n",
       "      <th>0</th>\n",
       "      <td>8.70</td>\n",
       "      <td>5.45</td>\n",
       "    </tr>\n",
       "    <tr>\n",
       "      <th>1</th>\n",
       "      <td>65.94</td>\n",
       "      <td>29.70</td>\n",
       "    </tr>\n",
       "    <tr>\n",
       "      <th>2</th>\n",
       "      <td>25.36</td>\n",
       "      <td>64.85</td>\n",
       "    </tr>\n",
       "  </tbody>\n",
       "</table>\n",
       "</div>"
      ],
      "text/plain": [
       "target        0      1\n",
       "st_slope              \n",
       "0          8.70   5.45\n",
       "1         65.94  29.70\n",
       "2         25.36  64.85"
      ]
     },
     "execution_count": 160,
     "metadata": {},
     "output_type": "execute_result"
    }
   ],
   "source": [
    "#Exploring the Heart Disease patients based on ST Slope\n",
    "plot_criteria= ['st_slope', 'target']\n",
    "cm = sns.light_palette(\"red\", as_cmap=True)\n",
    "(round(pd.crosstab(heart_data[plot_criteria[0]], heart_data[plot_criteria[1]], normalize='columns') * 100,2))"
   ]
  },
  {
   "cell_type": "markdown",
   "id": "868bc072-2e87-43b2-ad9a-bb765e464c5f",
   "metadata": {},
   "source": [
    "##### As we can see from above plot that 65.94% of the normal patients have flat sloping whereas 64.85% heart patients have down sloping."
   ]
  },
  {
   "cell_type": "markdown",
   "id": "d9d7a433-2309-442f-9610-f00ecb14955a",
   "metadata": {},
   "source": [
    "### Distribution of Numerical features."
   ]
  },
  {
   "cell_type": "code",
   "execution_count": 161,
   "id": "0bf548c8-8555-434c-b1fd-72b6f7b31849",
   "metadata": {},
   "outputs": [
    {
     "data": {
      "text/plain": [
       "<seaborn.axisgrid.PairGrid at 0x1a142b175b0>"
      ]
     },
     "execution_count": 161,
     "metadata": {},
     "output_type": "execute_result"
    },
    {
     "data": {
      "image/png": "[encoded data removed]",
      "text/plain": [
       "<Figure size 582.375x540 with 12 Axes>"
      ]
     },
     "metadata": {
      "needs_background": "light"
     },
     "output_type": "display_data"
    }
   ],
   "source": [
    "sns.pairplot(heart_data, hue = 'target', vars = ['age', 'resting_blood_pressure', 'cholesterol'] )"
   ]
  },
  {
   "cell_type": "markdown",
   "id": "03d5d508-d060-4ad3-a7e8-e5ea0a4c60fc",
   "metadata": {},
   "source": [
    "##### From the above plot it is clear that as the resting blood pressure and cholestrol increases chances of heart disease increases."
   ]
  },
  {
   "cell_type": "code",
   "execution_count": 162,
   "id": "ab40898f-110e-42e5-940c-d114908c5e87",
   "metadata": {},
   "outputs": [
    {
     "data": {
      "text/plain": [
       "<AxesSubplot:xlabel='resting_blood_pressure', ylabel='cholesterol'>"
      ]
     },
     "execution_count": 162,
     "metadata": {},
     "output_type": "execute_result"
    },
    {
     "data": {
      "image/png": "[encoded data removed]",
      "text/plain": [
       "<Figure size 432x288 with 1 Axes>"
      ]
     },
     "metadata": {
      "needs_background": "light"
     },
     "output_type": "display_data"
    }
   ],
   "source": [
    "sns.scatterplot(x = 'resting_blood_pressure', y = 'cholesterol', hue = 'target', data = heart_data)"
   ]
  },
  {
   "cell_type": "code",
   "execution_count": 163,
   "id": "d8412e46-d3bf-4bc0-9dd7-2eba88ffe3f2",
   "metadata": {},
   "outputs": [
    {
     "data": {
      "text/plain": [
       "<AxesSubplot:xlabel='resting_blood_pressure', ylabel='age'>"
      ]
     },
     "execution_count": 163,
     "metadata": {},
     "output_type": "execute_result"
    },
    {
     "data": {
      "image/png": "[encoded data removed]",
      "text/plain": [
       "<Figure size 432x288 with 1 Axes>"
      ]
     },
     "metadata": {
      "needs_background": "light"
     },
     "output_type": "display_data"
    }
   ],
   "source": [
    "sns.scatterplot(x = 'resting_blood_pressure', y = 'age', hue = 'target', data = heart_data)"
   ]
  },
  {
   "cell_type": "markdown",
   "id": "0fe46084-bf10-4e7f-8069-58e689f35064",
   "metadata": {},
   "source": [
    "# 6. Outlier Detection"
   ]
  },
  {
   "cell_type": "code",
   "execution_count": 164,
   "id": "c4216013-b29b-4a4e-bdeb-910d36a21618",
   "metadata": {},
   "outputs": [],
   "source": [
    "# filtering numeric features as age , resting bp, cholestrol and max heart rate achieved has outliers as per EDA\n",
    "\n",
    "dt_numeric = heart_data[['age','resting_blood_pressure','cholesterol','max_heart_rate_achieved']]"
   ]
  },
  {
   "cell_type": "code",
   "execution_count": 165,
   "id": "74e4482e-40be-4855-8fc5-8e11b79cd5c8",
   "metadata": {},
   "outputs": [
    {
     "data": {
      "text/html": [
       "<div>\n",
       "<style scoped>\n",
       "    .dataframe tbody tr th:only-of-type {\n",
       "        vertical-align: middle;\n",
       "    }\n",
       "\n",
       "    .dataframe tbody tr th {\n",
       "        vertical-align: top;\n",
       "    }\n",
       "\n",
       "    .dataframe thead th {\n",
       "        text-align: right;\n",
       "    }\n",
       "</style>\n",
       "<table border=\"1\" class=\"dataframe\">\n",
       "  <thead>\n",
       "    <tr style=\"text-align: right;\">\n",
       "      <th></th>\n",
       "      <th>age</th>\n",
       "      <th>resting_blood_pressure</th>\n",
       "      <th>cholesterol</th>\n",
       "      <th>max_heart_rate_achieved</th>\n",
       "    </tr>\n",
       "  </thead>\n",
       "  <tbody>\n",
       "    <tr>\n",
       "      <th>0</th>\n",
       "      <td>63</td>\n",
       "      <td>145</td>\n",
       "      <td>233</td>\n",
       "      <td>150</td>\n",
       "    </tr>\n",
       "    <tr>\n",
       "      <th>1</th>\n",
       "      <td>37</td>\n",
       "      <td>130</td>\n",
       "      <td>250</td>\n",
       "      <td>187</td>\n",
       "    </tr>\n",
       "    <tr>\n",
       "      <th>2</th>\n",
       "      <td>41</td>\n",
       "      <td>130</td>\n",
       "      <td>204</td>\n",
       "      <td>172</td>\n",
       "    </tr>\n",
       "    <tr>\n",
       "      <th>3</th>\n",
       "      <td>56</td>\n",
       "      <td>120</td>\n",
       "      <td>236</td>\n",
       "      <td>178</td>\n",
       "    </tr>\n",
       "    <tr>\n",
       "      <th>4</th>\n",
       "      <td>57</td>\n",
       "      <td>120</td>\n",
       "      <td>354</td>\n",
       "      <td>163</td>\n",
       "    </tr>\n",
       "  </tbody>\n",
       "</table>\n",
       "</div>"
      ],
      "text/plain": [
       "   age  resting_blood_pressure  cholesterol  max_heart_rate_achieved\n",
       "0   63                     145          233                      150\n",
       "1   37                     130          250                      187\n",
       "2   41                     130          204                      172\n",
       "3   56                     120          236                      178\n",
       "4   57                     120          354                      163"
      ]
     },
     "execution_count": 165,
     "metadata": {},
     "output_type": "execute_result"
    }
   ],
   "source": [
    "dt_numeric.head()"
   ]
  },
  {
   "cell_type": "code",
   "execution_count": 166,
   "id": "d5585780-bbaf-4d79-bbd7-072b9bcb57ea",
   "metadata": {},
   "outputs": [
    {
     "name": "stdout",
     "output_type": "stream",
     "text": [
      "For the feature age, No of Outliers is 0\n",
      "For the feature resting_blood_pressure, No of Outliers is 9\n",
      "For the feature cholesterol, No of Outliers is 5\n",
      "For the feature max_heart_rate_achieved, No of Outliers is 1\n"
     ]
    }
   ],
   "source": [
    "continous_features = ['age','resting_blood_pressure','cholesterol','max_heart_rate_achieved']  \n",
    "def outliers(heart_data_out, drop = False):\n",
    "    for each_feature in heart_data_out.columns:\n",
    "        feature_data = heart_data_out[each_feature]\n",
    "        Q1 = np.percentile(feature_data, 25.) # 25th percentile of the data of the given feature\n",
    "        Q3 = np.percentile(feature_data, 75.) # 75th percentile of the data of the given feature\n",
    "        IQR = Q3-Q1 #Interquartile Range\n",
    "        outlier_step = IQR * 1.5 #That's we were talking about above\n",
    "        outliers = feature_data[~((feature_data >= Q1 - outlier_step) & (feature_data <= Q3 + outlier_step))].index.tolist()  \n",
    "        if not drop:\n",
    "            print('For the feature {}, No of Outliers is {}'.format(each_feature, len(outliers)))\n",
    "        if drop:\n",
    "            df.drop(outliers, inplace = True, errors = 'ignore')\n",
    "            print('Outliers from {} feature removed'.format(each_feature))\n",
    "\n",
    "outliers(heart_data[continous_features])"
   ]
  },
  {
   "cell_type": "code",
   "execution_count": 167,
   "id": "faf625b1-59d8-40ce-ab69-fb76e50ac5f9",
   "metadata": {},
   "outputs": [
    {
     "data": {
      "text/plain": [
       "<AxesSubplot:ylabel='max_heart_rate_achieved'>"
      ]
     },
     "execution_count": 167,
     "metadata": {},
     "output_type": "execute_result"
    },
    {
     "data": {
      "image/png": "[encoded data removed]",
      "text/plain": [
       "<Figure size 1440x720 with 4 Axes>"
      ]
     },
     "metadata": {
      "needs_background": "light"
     },
     "output_type": "display_data"
    }
   ],
   "source": [
    "#Outlier distribution of the features\n",
    "fig, axes = plt.subplots(ncols = 2, nrows = 2, figsize = (20, 10))\n",
    "sns.boxplot(y = heart_data['age'], ax = axes[0,0],color='lime')\n",
    "sns.boxplot(y = heart_data['resting_blood_pressure'], ax = axes[0,1],color='cyan')\n",
    "sns.boxplot(y = heart_data['cholesterol'], ax = axes[1,0],color='yellow')\n",
    "sns.boxplot(y = heart_data['max_heart_rate_achieved'], ax = axes[1,1],color='pink')"
   ]
  },
  {
   "cell_type": "code",
   "execution_count": 168,
   "id": "5385f0c6-3ed2-4df7-988a-3a37396be876",
   "metadata": {},
   "outputs": [
    {
     "data": {
      "text/plain": [
       "<AxesSubplot:ylabel='resting_blood_pressure'>"
      ]
     },
     "execution_count": 168,
     "metadata": {},
     "output_type": "execute_result"
    },
    {
     "data": {
      "image/png": "[encoded data removed]",
      "text/plain": [
       "<Figure size 432x288 with 1 Axes>"
      ]
     },
     "metadata": {
      "needs_background": "light"
     },
     "output_type": "display_data"
    }
   ],
   "source": [
    "#Boxplot of trestbps to check for outliers\n",
    "sns.boxplot(y = heart_data['resting_blood_pressure'])"
   ]
  },
  {
   "cell_type": "code",
   "execution_count": 169,
   "id": "31be3cc6-dfbb-42d5-ada8-b0ba30e41ff9",
   "metadata": {},
   "outputs": [
    {
     "name": "stdout",
     "output_type": "stream",
     "text": [
      "count    303.000000\n",
      "mean     131.623762\n",
      "std       17.538143\n",
      "min       94.000000\n",
      "25%      120.000000\n",
      "50%      130.000000\n",
      "75%      140.000000\n",
      "max      200.000000\n",
      "Name: resting_blood_pressure, dtype: float64\n",
      "Inter Quartile Range  20.0\n",
      "Lower Limit  90.0\n",
      "Upper Limit  170.0\n"
     ]
    }
   ],
   "source": [
    "# Summary statistics of trestbps\n",
    "print(heart_data['resting_blood_pressure'].describe())\n",
    "iqr_pr = heart_data['resting_blood_pressure'].describe()['75%'] - heart_data['resting_blood_pressure'].describe()['25%']\n",
    "print('Inter Quartile Range ', iqr_pr)\n",
    "lower_limit_pr = heart_data['resting_blood_pressure'].describe()['25%'] - (1.5 * iqr_pr)\n",
    "upper_limit_pr = heart_data['resting_blood_pressure'].describe()['75%'] + (1.5 * iqr_pr)\n",
    "print('Lower Limit ', lower_limit_pr)\n",
    "print('Upper Limit ', upper_limit_pr)"
   ]
  },
  {
   "cell_type": "code",
   "execution_count": 170,
   "id": "cce35e4c-b137-4e68-ba48-9ae5040a95ad",
   "metadata": {},
   "outputs": [
    {
     "data": {
      "text/plain": [
       "<AxesSubplot:ylabel='resting_blood_pressure'>"
      ]
     },
     "execution_count": 170,
     "metadata": {},
     "output_type": "execute_result"
    },
    {
     "data": {
      "image/png": "[encoded data removed]",
      "text/plain": [
       "<Figure size 432x288 with 1 Axes>"
      ]
     },
     "metadata": {
      "needs_background": "light"
     },
     "output_type": "display_data"
    }
   ],
   "source": [
    "#Replacing outliers with 2nd Quartile value\n",
    "# target 0\n",
    "heart_data.loc[(heart_data['resting_blood_pressure'] > upper_limit_pr) & (heart_data['target'] == 0), 'resting_blood_pressure'] = heart_data[heart_data['target'] == 0]['resting_blood_pressure'].describe()['50%']\n",
    "# target 1\n",
    "heart_data.loc[(heart_data['resting_blood_pressure'] > upper_limit_pr) & (heart_data['target'] == 1), 'resting_blood_pressure'] = heart_data[heart_data['target'] == 1]['resting_blood_pressure'].describe()['50%']\n",
    "sns.boxplot(y = heart_data['resting_blood_pressure'])"
   ]
  },
  {
   "cell_type": "code",
   "execution_count": 171,
   "id": "3d8d7591-701a-450e-a30c-ca40187dd899",
   "metadata": {},
   "outputs": [
    {
     "data": {
      "text/plain": [
       "<AxesSubplot:ylabel='cholesterol'>"
      ]
     },
     "execution_count": 171,
     "metadata": {},
     "output_type": "execute_result"
    },
    {
     "data": {
      "image/png": "[encoded data removed]",
      "text/plain": [
       "<Figure size 432x288 with 1 Axes>"
      ]
     },
     "metadata": {
      "needs_background": "light"
     },
     "output_type": "display_data"
    }
   ],
   "source": [
    "#Boxplot of chol to check for outliers\n",
    "sns.boxplot(y = heart_data['cholesterol'])"
   ]
  },
  {
   "cell_type": "code",
   "execution_count": 172,
   "id": "54dde45a-3d06-448a-b9c9-c9d024355f64",
   "metadata": {},
   "outputs": [
    {
     "name": "stdout",
     "output_type": "stream",
     "text": [
      "count    303.000000\n",
      "mean     246.264026\n",
      "std       51.830751\n",
      "min      126.000000\n",
      "25%      211.000000\n",
      "50%      240.000000\n",
      "75%      274.500000\n",
      "max      564.000000\n",
      "Name: cholesterol, dtype: float64\n",
      "Inter Quartile Range  63.5\n",
      "Lower Limit  115.75\n",
      "Upper Limit  369.75\n"
     ]
    }
   ],
   "source": [
    "# Summary statistics of trestbps\n",
    "print(heart_data['cholesterol'].describe())\n",
    "iqr_pr = heart_data['cholesterol'].describe()['75%'] - heart_data['cholesterol'].describe()['25%']\n",
    "print('Inter Quartile Range ', iqr_pr)\n",
    "lower_limit_pr = heart_data['cholesterol'].describe()['25%'] - (1.5 * iqr_pr)\n",
    "upper_limit_pr = heart_data['cholesterol'].describe()['75%'] + (1.5 * iqr_pr)\n",
    "print('Lower Limit ', lower_limit_pr)\n",
    "print('Upper Limit ', upper_limit_pr)"
   ]
  },
  {
   "cell_type": "code",
   "execution_count": 173,
   "id": "70900268-1faa-47a4-8b8d-96e094150ec9",
   "metadata": {},
   "outputs": [
    {
     "data": {
      "text/plain": [
       "<AxesSubplot:ylabel='cholesterol'>"
      ]
     },
     "execution_count": 173,
     "metadata": {},
     "output_type": "execute_result"
    },
    {
     "data": {
      "image/png": "[encoded data removed]",
      "text/plain": [
       "<Figure size 432x288 with 1 Axes>"
      ]
     },
     "metadata": {
      "needs_background": "light"
     },
     "output_type": "display_data"
    }
   ],
   "source": [
    "#Replacing outliers with 2nd Quartile value\n",
    "# target 0\n",
    "heart_data.loc[(heart_data['cholesterol'] > upper_limit_pr) & (heart_data['target'] == 0), 'cholesterol'] = heart_data[heart_data['target'] == 0]['cholesterol'].describe()['50%']\n",
    "# target 1\n",
    "heart_data.loc[(heart_data['cholesterol'] > upper_limit_pr) & (heart_data['target'] == 1), 'cholesterol'] = heart_data[heart_data['target'] == 1]['cholesterol'].describe()['50%']\n",
    "sns.boxplot(y = heart_data['cholesterol'])"
   ]
  },
  {
   "cell_type": "code",
   "execution_count": 174,
   "id": "4b634806-42b7-4ace-8058-4de0248b0e3b",
   "metadata": {},
   "outputs": [
    {
     "data": {
      "text/plain": [
       "<AxesSubplot:ylabel='max_heart_rate_achieved'>"
      ]
     },
     "execution_count": 174,
     "metadata": {},
     "output_type": "execute_result"
    },
    {
     "data": {
      "image/png": "[encoded data removed]",
      "text/plain": [
       "<Figure size 432x288 with 1 Axes>"
      ]
     },
     "metadata": {
      "needs_background": "light"
     },
     "output_type": "display_data"
    }
   ],
   "source": [
    "#Boxplot of thalach to check for outliers\n",
    "sns.boxplot(y = heart_data['max_heart_rate_achieved'])"
   ]
  },
  {
   "cell_type": "code",
   "execution_count": 175,
   "id": "157c849d-016e-400a-ae15-3ec6bff8e263",
   "metadata": {},
   "outputs": [
    {
     "name": "stdout",
     "output_type": "stream",
     "text": [
      "count    303.000000\n",
      "mean     149.646865\n",
      "std       22.905161\n",
      "min       71.000000\n",
      "25%      133.500000\n",
      "50%      153.000000\n",
      "75%      166.000000\n",
      "max      202.000000\n",
      "Name: max_heart_rate_achieved, dtype: float64\n",
      "Inter Quartile Range  32.5\n",
      "Lower Limit  84.75\n",
      "Upper Limit  214.75\n"
     ]
    }
   ],
   "source": [
    "# Summary statistics of trestbps\n",
    "print(heart_data['max_heart_rate_achieved'].describe())\n",
    "iqr_pr = heart_data['max_heart_rate_achieved'].describe()['75%'] - heart_data['max_heart_rate_achieved'].describe()['25%']\n",
    "print('Inter Quartile Range ', iqr_pr)\n",
    "lower_limit_pr = heart_data['max_heart_rate_achieved'].describe()['25%'] - (1.5 * iqr_pr)\n",
    "upper_limit_pr = heart_data['max_heart_rate_achieved'].describe()['75%'] + (1.5 * iqr_pr)\n",
    "print('Lower Limit ', lower_limit_pr)\n",
    "print('Upper Limit ', upper_limit_pr)"
   ]
  },
  {
   "cell_type": "code",
   "execution_count": 176,
   "id": "77c9dbb2-ce16-49b2-9bf4-766eb4063965",
   "metadata": {},
   "outputs": [
    {
     "data": {
      "text/plain": [
       "<AxesSubplot:ylabel='max_heart_rate_achieved'>"
      ]
     },
     "execution_count": 176,
     "metadata": {},
     "output_type": "execute_result"
    },
    {
     "data": {
      "image/png": "[encoded data removed]",
      "text/plain": [
       "<Figure size 432x288 with 1 Axes>"
      ]
     },
     "metadata": {
      "needs_background": "light"
     },
     "output_type": "display_data"
    }
   ],
   "source": [
    "#Replacing outliers with quartile values\n",
    "# target 0\n",
    "heart_data.loc[(heart_data['max_heart_rate_achieved'] < heart_data['max_heart_rate_achieved'].describe()['25%']) & (heart_data['target'] == 0), 'max_heart_rate_achieved'] = heart_data[heart_data['target'] == 0][\n",
    "'max_heart_rate_achieved'].describe()['50%']\n",
    "heart_data.loc[(heart_data['max_heart_rate_achieved'] > heart_data['max_heart_rate_achieved'].describe()['75%']) & (heart_data['target'] == 0), 'max_heart_rate_achieved'] = heart_data[heart_data['target'] == 0][\n",
    "'max_heart_rate_achieved'].describe()['75%']\n",
    "# Outcome 1\n",
    "heart_data.loc[(heart_data['max_heart_rate_achieved'] < heart_data['max_heart_rate_achieved'].describe()['25%']) & (heart_data['target'] == 1), 'max_heart_rate_achieved'] = heart_data[heart_data['target'] == 1][\n",
    "'max_heart_rate_achieved'].describe()['50%']\n",
    "heart_data.loc[(heart_data['max_heart_rate_achieved'] > heart_data['max_heart_rate_achieved'].describe()['75%']) & (heart_data['target'] == 1), 'max_heart_rate_achieved'] = heart_data[heart_data['target'] == 1][\n",
    "'max_heart_rate_achieved'].describe()['75%']\n",
    "sns.boxplot(y = heart_data['max_heart_rate_achieved'])"
   ]
  },
  {
   "cell_type": "markdown",
   "id": "f0ac8201-b90c-46b2-8d85-9d1b0557e694",
   "metadata": {},
   "source": [
    "##### Now outliers have detected by inter quartile method."
   ]
  },
  {
   "cell_type": "code",
   "execution_count": 177,
   "id": "42482250-5835-4ea2-a88f-26dc9ec88fd3",
   "metadata": {},
   "outputs": [
    {
     "data": {
      "image/png": "[encoded data removed]",
      "text/plain": [
       "<Figure size 432x288 with 1 Axes>"
      ]
     },
     "metadata": {
      "needs_background": "light"
     },
     "output_type": "display_data"
    }
   ],
   "source": [
    "#Plotting the outcome col. histogram\n",
    "\n",
    "sns.countplot(x= 'target',data= heart_data)\n",
    "plt.show()"
   ]
  },
  {
   "cell_type": "code",
   "execution_count": 178,
   "id": "6eedadce-4e65-4310-bb09-60c6f09f2da9",
   "metadata": {},
   "outputs": [],
   "source": [
    "#splitting data into train and test datasets\n",
    "X = heart_data.drop('target', axis=1)\n",
    "Y = heart_data['target']"
   ]
  },
  {
   "cell_type": "markdown",
   "id": "2ec4ca55-274c-44ad-83a6-890779f59e8b",
   "metadata": {},
   "source": [
    "# 7. Train Test split"
   ]
  },
  {
   "cell_type": "code",
   "execution_count": 179,
   "id": "409712c7-e998-4ee6-82c2-1024fd211ee3",
   "metadata": {},
   "outputs": [],
   "source": [
    "X_train, X_test, Y_train, Y_test = train_test_split(X, Y, test_size=0.2, random_state =2)"
   ]
  },
  {
   "cell_type": "code",
   "execution_count": 180,
   "id": "941626d3-db27-4b4d-a4ba-14d601bb78c2",
   "metadata": {},
   "outputs": [
    {
     "name": "stdout",
     "output_type": "stream",
     "text": [
      "Distribution of traget variable in training set\n",
      "1    136\n",
      "0    106\n",
      "Name: target, dtype: int64\n",
      "Distribution of traget variable in test set\n",
      "0    32\n",
      "1    29\n",
      "Name: target, dtype: int64\n"
     ]
    }
   ],
   "source": [
    "## checking distribution of traget variable in train test split\n",
    "print('Distribution of traget variable in training set')\n",
    "print(Y_train.value_counts())\n",
    "\n",
    "print('Distribution of traget variable in test set')\n",
    "print(Y_test.value_counts())\n"
   ]
  },
  {
   "cell_type": "code",
   "execution_count": 181,
   "id": "ae7043f9-63c6-4250-9aa7-ec9b24f0b789",
   "metadata": {},
   "outputs": [
    {
     "name": "stdout",
     "output_type": "stream",
     "text": [
      "(303, 13) (242, 13) (61, 13)\n"
     ]
    }
   ],
   "source": [
    "print(X.shape, X_train.shape, X_test.shape)"
   ]
  },
  {
   "cell_type": "markdown",
   "id": "d09dd998-f6c4-442c-b0dd-39d0194a277c",
   "metadata": {},
   "source": [
    "# 8. Model Building and Evaluation"
   ]
  },
  {
   "cell_type": "markdown",
   "id": "9979b1e2-53e4-425b-ae0c-df91eb350595",
   "metadata": {},
   "source": [
    "### Decision Tree"
   ]
  },
  {
   "cell_type": "code",
   "execution_count": 182,
   "id": "189dfadd-ea24-40f6-9b3b-fefbee0c35d8",
   "metadata": {},
   "outputs": [
    {
     "data": {
      "text/plain": [
       "DecisionTreeClassifier()"
      ]
     },
     "execution_count": 182,
     "metadata": {},
     "output_type": "execute_result"
    }
   ],
   "source": [
    "decision_tree = DecisionTreeClassifier()\n",
    "decision_tree.fit(X_train, Y_train)"
   ]
  },
  {
   "cell_type": "code",
   "execution_count": 183,
   "id": "b936a88a-f8cc-4e42-bc29-a241a983d35f",
   "metadata": {},
   "outputs": [],
   "source": [
    "decision_tree_pred = decision_tree.predict(X_test)"
   ]
  },
  {
   "cell_type": "code",
   "execution_count": 218,
   "id": "8ddaef6f-88d9-4332-80c3-01a9e87cdf24",
   "metadata": {},
   "outputs": [
    {
     "name": "stdout",
     "output_type": "stream",
     "text": [
      "[[26  6]\n",
      " [ 4 25]]\n"
     ]
    }
   ],
   "source": [
    "#Confusion matrix\n",
    "from sklearn.metrics import confusion_matrix\n",
    "print(confusion_matrix(Y_test, decision_tree_pred))"
   ]
  },
  {
   "cell_type": "code",
   "execution_count": 219,
   "id": "554857ae-c3b6-4e6e-9cc5-830590421022",
   "metadata": {},
   "outputs": [
    {
     "name": "stdout",
     "output_type": "stream",
     "text": [
      "              precision    recall  f1-score   support\n",
      "\n",
      "           0       0.87      0.81      0.84        32\n",
      "           1       0.81      0.86      0.83        29\n",
      "\n",
      "    accuracy                           0.84        61\n",
      "   macro avg       0.84      0.84      0.84        61\n",
      "weighted avg       0.84      0.84      0.84        61\n",
      "\n"
     ]
    }
   ],
   "source": [
    "#Classification Report\n",
    "from sklearn.metrics import classification_report\n",
    "print(classification_report(Y_test, decision_tree_pred))"
   ]
  },
  {
   "cell_type": "markdown",
   "id": "805013d4-e0b7-4d33-a33e-c00a1ff98c31",
   "metadata": {},
   "source": [
    "#### Accuracy of Decision Tree is 84%"
   ]
  },
  {
   "cell_type": "markdown",
   "id": "4a5f1d7c-35c6-441c-be86-dc5a2a744fb4",
   "metadata": {},
   "source": [
    "### Logistic Regression"
   ]
  },
  {
   "cell_type": "code",
   "execution_count": 220,
   "id": "dfc04072-d971-4707-807f-a6b29968a966",
   "metadata": {},
   "outputs": [
    {
     "name": "stderr",
     "output_type": "stream",
     "text": [
      "C:\\Users\\NIKHIL PAL\\AppData\\Local\\Programs\\Python\\Python39\\lib\\site-packages\\sklearn\\linear_model\\_logistic.py:763: ConvergenceWarning: lbfgs failed to converge (status=1):\n",
      "STOP: TOTAL NO. of ITERATIONS REACHED LIMIT.\n",
      "\n",
      "Increase the number of iterations (max_iter) or scale the data as shown in:\n",
      "    https://scikit-learn.org/stable/modules/preprocessing.html\n",
      "Please also refer to the documentation for alternative solver options:\n",
      "    https://scikit-learn.org/stable/modules/linear_model.html#logistic-regression\n",
      "  n_iter_i = _check_optimize_result(\n"
     ]
    }
   ],
   "source": [
    "logreg = LogisticRegression()\n",
    "logreg.fit(X_train, Y_train)\n",
    "logreg_pred = logreg.predict(X_test)"
   ]
  },
  {
   "cell_type": "code",
   "execution_count": 221,
   "id": "cc86f59b-9d3c-4b09-8d6e-d2ee04b48b63",
   "metadata": {},
   "outputs": [
    {
     "name": "stdout",
     "output_type": "stream",
     "text": [
      "[[26  6]\n",
      " [ 0 29]]\n"
     ]
    }
   ],
   "source": [
    "print(confusion_matrix(Y_test, logreg_pred))"
   ]
  },
  {
   "cell_type": "code",
   "execution_count": 222,
   "id": "a533cf97-bda8-4175-b396-d28a4da2a81a",
   "metadata": {},
   "outputs": [
    {
     "name": "stdout",
     "output_type": "stream",
     "text": [
      "              precision    recall  f1-score   support\n",
      "\n",
      "           0       1.00      0.81      0.90        32\n",
      "           1       0.83      1.00      0.91        29\n",
      "\n",
      "    accuracy                           0.90        61\n",
      "   macro avg       0.91      0.91      0.90        61\n",
      "weighted avg       0.92      0.90      0.90        61\n",
      "\n"
     ]
    }
   ],
   "source": [
    "print(classification_report(Y_test, logreg_pred))"
   ]
  },
  {
   "cell_type": "markdown",
   "id": "eee49188-8f02-44c8-988a-f2c84e802c69",
   "metadata": {},
   "source": [
    "#### Accuracy of Logistic Regression is 90%"
   ]
  },
  {
   "cell_type": "markdown",
   "id": "b13ade3f-bc9b-4b2c-b6c0-9f38952d90ed",
   "metadata": {},
   "source": [
    "### K-Nearest Neighbours"
   ]
  },
  {
   "cell_type": "code",
   "execution_count": 223,
   "id": "652a04cf-9a81-4600-a9bf-a48331e9a7fa",
   "metadata": {},
   "outputs": [],
   "source": [
    "knn = KNeighborsClassifier()\n",
    "knn.fit(X_train, Y_train)\n",
    "knn_pred = knn.predict(X_test)"
   ]
  },
  {
   "cell_type": "code",
   "execution_count": 224,
   "id": "7c55fefe-0255-4d9c-a6c9-47058d6ea0ac",
   "metadata": {},
   "outputs": [
    {
     "name": "stdout",
     "output_type": "stream",
     "text": [
      "[[23  9]\n",
      " [ 4 25]]\n"
     ]
    }
   ],
   "source": [
    "print(confusion_matrix(Y_test, knn_pred))"
   ]
  },
  {
   "cell_type": "code",
   "execution_count": 225,
   "id": "f3be4caf-6b61-44ee-9a0a-692efa7eb87d",
   "metadata": {},
   "outputs": [
    {
     "name": "stdout",
     "output_type": "stream",
     "text": [
      "              precision    recall  f1-score   support\n",
      "\n",
      "           0       0.85      0.72      0.78        32\n",
      "           1       0.74      0.86      0.79        29\n",
      "\n",
      "    accuracy                           0.79        61\n",
      "   macro avg       0.79      0.79      0.79        61\n",
      "weighted avg       0.80      0.79      0.79        61\n",
      "\n"
     ]
    }
   ],
   "source": [
    "print(classification_report(Y_test, knn_pred))"
   ]
  },
  {
   "cell_type": "markdown",
   "id": "abebeaad-a9e4-4deb-98ef-da83e69efef5",
   "metadata": {},
   "source": [
    "#### Accuracy of k nearest neighbour is 79%"
   ]
  },
  {
   "cell_type": "markdown",
   "id": "89314714-4051-4dde-bf5f-18ca102863e2",
   "metadata": {},
   "source": [
    "### Random Forest"
   ]
  },
  {
   "cell_type": "code",
   "execution_count": 226,
   "id": "42ca8eb5-8a59-4d80-abb5-9040b179c607",
   "metadata": {},
   "outputs": [],
   "source": [
    "rand_forest = RandomForestClassifier()\n",
    "rand_forest.fit(X_train, Y_train)\n",
    "rand_forest_pred = rand_forest.predict(X_test)"
   ]
  },
  {
   "cell_type": "code",
   "execution_count": 227,
   "id": "e5d0091b-f5aa-46fd-a5ba-0164c82bdf5a",
   "metadata": {},
   "outputs": [
    {
     "name": "stdout",
     "output_type": "stream",
     "text": [
      "[[27  5]\n",
      " [ 3 26]]\n"
     ]
    }
   ],
   "source": [
    "print(confusion_matrix(Y_test, rand_forest_pred))"
   ]
  },
  {
   "cell_type": "code",
   "execution_count": 228,
   "id": "67f10f83-0667-472b-a254-c1665a5e897c",
   "metadata": {},
   "outputs": [
    {
     "name": "stdout",
     "output_type": "stream",
     "text": [
      "              precision    recall  f1-score   support\n",
      "\n",
      "           0       0.90      0.84      0.87        32\n",
      "           1       0.84      0.90      0.87        29\n",
      "\n",
      "    accuracy                           0.87        61\n",
      "   macro avg       0.87      0.87      0.87        61\n",
      "weighted avg       0.87      0.87      0.87        61\n",
      "\n"
     ]
    }
   ],
   "source": [
    "print(classification_report(Y_test, rand_forest_pred))"
   ]
  },
  {
   "cell_type": "markdown",
   "id": "beb66f6d-5b6b-4a5f-89f7-9d0037c8dfec",
   "metadata": {},
   "source": [
    "#### Accuracy of Random forest is 87%"
   ]
  },
  {
   "cell_type": "markdown",
   "id": "95015f02-2168-47c5-8231-52b7045b2e99",
   "metadata": {},
   "source": [
    "### Support Vector Classifier"
   ]
  },
  {
   "cell_type": "code",
   "execution_count": 229,
   "id": "8acf4312-d373-40c2-bca6-104c085abf81",
   "metadata": {},
   "outputs": [],
   "source": [
    "svm = SVC()\n",
    "svm.fit(X_train, Y_train)\n",
    "svm_pred = svm.predict(X_test)"
   ]
  },
  {
   "cell_type": "code",
   "execution_count": 230,
   "id": "88bba4d9-eda3-4430-b340-dd001f661819",
   "metadata": {},
   "outputs": [
    {
     "name": "stdout",
     "output_type": "stream",
     "text": [
      "[[12 20]\n",
      " [ 0 29]]\n"
     ]
    }
   ],
   "source": [
    "print(confusion_matrix(Y_test, svm_pred))"
   ]
  },
  {
   "cell_type": "code",
   "execution_count": 231,
   "id": "3a4f7f34-c22e-46a1-bbfe-85f87dc60a1d",
   "metadata": {},
   "outputs": [
    {
     "name": "stdout",
     "output_type": "stream",
     "text": [
      "              precision    recall  f1-score   support\n",
      "\n",
      "           0       1.00      0.38      0.55        32\n",
      "           1       0.59      1.00      0.74        29\n",
      "\n",
      "    accuracy                           0.67        61\n",
      "   macro avg       0.80      0.69      0.64        61\n",
      "weighted avg       0.81      0.67      0.64        61\n",
      "\n"
     ]
    }
   ],
   "source": [
    "print(classification_report(Y_test, svm_pred))"
   ]
  },
  {
   "cell_type": "markdown",
   "id": "349ea628-de2b-47bf-9488-505c2edfb690",
   "metadata": {},
   "source": [
    "#### Accuracy of support vector classifier is 67%"
   ]
  },
  {
   "cell_type": "markdown",
   "id": "fcbde403-6230-47b4-838c-6fc6450115a7",
   "metadata": {},
   "source": [
    "### Naive bayes"
   ]
  },
  {
   "cell_type": "code",
   "execution_count": 232,
   "id": "4359eb32-4a74-42ed-be2b-44da07b91b24",
   "metadata": {},
   "outputs": [],
   "source": [
    "from sklearn.naive_bayes import GaussianNB"
   ]
  },
  {
   "cell_type": "code",
   "execution_count": 233,
   "id": "b7816e8f-93d4-423b-9466-5ec34c270d4a",
   "metadata": {},
   "outputs": [],
   "source": [
    "naive_bayes = GaussianNB()\n",
    "naive_bayes.fit(X_train, Y_train)\n",
    "\n",
    "naive_bayes_pred = naive_bayes.predict(X_test)"
   ]
  },
  {
   "cell_type": "code",
   "execution_count": 234,
   "id": "d64534a7-78e0-41cc-b78e-6264f94baf35",
   "metadata": {},
   "outputs": [
    {
     "name": "stdout",
     "output_type": "stream",
     "text": [
      "[[28  4]\n",
      " [ 2 27]]\n"
     ]
    }
   ],
   "source": [
    "print(confusion_matrix(Y_test, naive_bayes_pred))"
   ]
  },
  {
   "cell_type": "code",
   "execution_count": 236,
   "id": "6026be1a-3f56-46aa-ba57-b6d9a0de108b",
   "metadata": {},
   "outputs": [
    {
     "name": "stdout",
     "output_type": "stream",
     "text": [
      "              precision    recall  f1-score   support\n",
      "\n",
      "           0       0.93      0.88      0.90        32\n",
      "           1       0.87      0.93      0.90        29\n",
      "\n",
      "    accuracy                           0.90        61\n",
      "   macro avg       0.90      0.90      0.90        61\n",
      "weighted avg       0.90      0.90      0.90        61\n",
      "\n"
     ]
    }
   ],
   "source": [
    "print(classification_report(Y_test, naive_bayes_pred))"
   ]
  },
  {
   "cell_type": "markdown",
   "id": "d02cfc0f-3d11-448e-a3d1-fdcfa5076906",
   "metadata": {},
   "source": [
    "#### Accuracy of Naive bayes is 90%"
   ]
  },
  {
   "cell_type": "markdown",
   "id": "2f6557ed-ecca-47a0-9c96-14f9898c792d",
   "metadata": {},
   "source": [
    "## 9. Model Comparison\n",
    "##### AS we can see from above results, Logistic Regression, Naive Bayes and Random Forest are the best performer as it has highest test accuracy of 0.90, 0.90 and 0.87. "
   ]
  },
  {
   "cell_type": "markdown",
   "id": "c9060bb0-15e1-450e-8920-0a532213b875",
   "metadata": {},
   "source": [
    "# ROC Curve"
   ]
  },
  {
   "cell_type": "code",
   "execution_count": 239,
   "id": "18ad5883-8066-44ad-99d6-0f6c8236e68f",
   "metadata": {},
   "outputs": [
    {
     "data": {
      "image/png": "[encoded data removed]",
      "text/plain": [
       "<Figure size 864x576 with 1 Axes>"
      ]
     },
     "metadata": {
      "needs_background": "light"
     },
     "output_type": "display_data"
    }
   ],
   "source": [
    "def roc_auc_plot(y_true, y_proba, label=' ', l='-', lw=1.0):\n",
    "    from sklearn.metrics import roc_curve, roc_auc_score\n",
    "    fpr, tpr, _ = roc_curve(y_true, y_proba[:,1])\n",
    "    ax.plot(fpr, tpr, linestyle=l, linewidth=lw,\n",
    "            label=\"%s (area=%.3f)\"%(label,roc_auc_score(y_true, y_proba[:,1])))\n",
    "\n",
    "f, ax = plt.subplots(figsize=(12,8))\n",
    "\n",
    "roc_auc_plot(Y_test,logreg.predict_proba(X_test),label='Logistic Regression ',l='-')\n",
    "roc_auc_plot(Y_test,rand_forest.predict_proba(X_test),label='Random Forest Classifier ',l='-')\n",
    "roc_auc_plot(Y_test,naive_bayes.predict_proba(X_test),label='Naive Bayes',l='-')\n",
    "\n",
    "ax.plot([0,1], [0,1], color='k', linewidth=0.5, linestyle='--')    \n",
    "ax.legend(loc=\"lower right\")    \n",
    "ax.set_xlabel('False Positive Rate')\n",
    "ax.set_ylabel('True Positive Rate')\n",
    "ax.set_xlim([0, 1])\n",
    "ax.set_ylim([0, 1])\n",
    "ax.set_title('Receiver Operator Characteristic curves')\n",
    "sns.despine()"
   ]
  },
  {
   "cell_type": "markdown",
   "id": "467d7c2f-5fe9-435c-8b3a-9a9c09a1fafd",
   "metadata": {},
   "source": [
    "#### As we can see highest average area under the curve (AUC) of 0.970 is attained by Logistic Regression."
   ]
  },
  {
   "cell_type": "markdown",
   "id": "5f42e2e3-3033-4a3a-99fa-23352f60bf7b",
   "metadata": {},
   "source": [
    "# 10. Conclusion"
   ]
  },
  {
   "cell_type": "code",
   "execution_count": 248,
   "id": "27d364cd-78e1-4d0e-bccd-83197cc9c942",
   "metadata": {},
   "outputs": [
    {
     "name": "stdout",
     "output_type": "stream",
     "text": [
      "[0]\n",
      "The Person does not have a Heart Disease\n"
     ]
    }
   ],
   "source": [
    "input_data = (62,0,0,140,268,0,0,160,0,3.6,0,2,3)\n",
    "\n",
    "# change the input data to a numpy array\n",
    "input_data_as_numpy_array= np.asarray(input_data)\n",
    "\n",
    "# reshape the numpy array as we are predicting for only on instance\n",
    "input_data_reshaped = input_data_as_numpy_array.reshape(1,-1)\n",
    "\n",
    "prediction = logreg.predict(input_data_reshaped)\n",
    "print(prediction)\n",
    "\n",
    "if (prediction[0]== 0):\n",
    "  print('The Person does not have a Heart Disease')\n",
    "else:\n",
    "  print('The Person has Heart Disease')"
   ]
  },
  {
   "cell_type": "markdown",
   "id": "71780946-9e35-4aa4-a729-c1efeb924866",
   "metadata": {},
   "source": [
    "#### Since the predictive model has been build using logistic regression, therefore it is clear that for the given heart dataset logistic regression would be better to predict the future instances."
   ]
  },
  {
   "cell_type": "code",
   "execution_count": null,
   "id": "42d497ad-c166-4a69-be72-72087c1cf6f9",
   "metadata": {},
   "outputs": [],
   "source": []
  }
 ],
 "metadata": {
  "kernelspec": {
   "display_name": "Python 3 (ipykernel)",
   "language": "python",
   "name": "python3"
  },
  "language_info": {
   "codemirror_mode": {
    "name": "ipython",
    "version": 3
   },
   "file_extension": ".py",
   "mimetype": "text/x-python",
   "name": "python",
   "nbconvert_exporter": "python",
   "pygments_lexer": "ipython3",
   "version": "3.9.7"
  }
 },
 "nbformat": 4,
 "nbformat_minor": 5
}
